{
 "cells": [
  {
   "cell_type": "markdown",
   "metadata": {},
   "source": [
    "## 練習時間\n",
    "參考 Day 12 範例程式，離散化你覺得有興趣的欄位，並嘗試找出有趣的訊息"
   ]
  },
  {
   "cell_type": "code",
   "execution_count": 2,
   "metadata": {},
   "outputs": [],
   "source": [
    "# Import 需要的套件\n",
    "import os\n",
    "import numpy as np\n",
    "import pandas as pd\n",
    "\n",
    "import matplotlib.pyplot as plt\n",
    "%matplotlib inline"
   ]
  },
  {
   "cell_type": "markdown",
   "metadata": {},
   "source": [
    "### 之前做過的處理"
   ]
  },
  {
   "cell_type": "code",
   "execution_count": 3,
   "metadata": {},
   "outputs": [],
   "source": [
    "# 設定 data_path\n",
    "dir_data = 'C:\\\\Users\\\\USER'\n",
    "f_app_train = os.path.join(dir_data, 'application_train.csv')\n",
    "f_app_test = os.path.join(dir_data, 'application_test.csv')\n",
    "\n",
    "app_train = pd.read_csv(f_app_train)\n",
    "app_test = pd.read_csv(f_app_test)\n",
    "\n",
    "from sklearn.preprocessing import LabelEncoder\n",
    "\n",
    "# Create a label encoder object\n",
    "le = LabelEncoder()\n",
    "le_count = 0\n",
    "\n",
    "# Iterate through the columns\n",
    "for col in app_train:\n",
    "    if app_train[col].dtype == 'object':\n",
    "        # If 2 or fewer unique categories\n",
    "        if len(list(app_train[col].unique())) <= 2:\n",
    "            # Train on the training data\n",
    "            le.fit(app_train[col])\n",
    "            # Transform both training and testing data\n",
    "            app_train[col] = le.transform(app_train[col])\n",
    "            app_test[col] = le.transform(app_test[col])\n",
    "            \n",
    "            # Keep track of how many columns were label encoded\n",
    "            le_count += 1\n",
    "            \n",
    "app_train = pd.get_dummies(app_train)\n",
    "app_test = pd.get_dummies(app_test)\n",
    "\n",
    "# Create an anomalous flag column\n",
    "app_train['DAYS_EMPLOYED_ANOM'] = app_train[\"DAYS_EMPLOYED\"] == 365243\n",
    "app_train['DAYS_EMPLOYED'].replace({365243: np.nan}, inplace = True)\n",
    "# also apply to testing dataset\n",
    "app_test['DAYS_EMPLOYED_ANOM'] = app_test[\"DAYS_EMPLOYED\"] == 365243\n",
    "app_test[\"DAYS_EMPLOYED\"].replace({365243: np.nan}, inplace = True)\n",
    "\n",
    "# absolute the value of DAYS_BIRTH\n",
    "app_train['DAYS_BIRTH'] = abs(app_train['DAYS_BIRTH'])\n",
    "app_test['DAYS_BIRTH'] = abs(app_test['DAYS_BIRTH'])"
   ]
  },
  {
   "cell_type": "code",
   "execution_count": 11,
   "metadata": {},
   "outputs": [
    {
     "data": {
      "text/plain": [
       "count    3.072330e+05\n",
       "mean     5.383962e+05\n",
       "std      3.694465e+05\n",
       "min      4.050000e+04\n",
       "25%      2.385000e+05\n",
       "50%      4.500000e+05\n",
       "75%      6.795000e+05\n",
       "max      4.050000e+06\n",
       "Name: AMT_GOODS_PRICE, dtype: float64"
      ]
     },
     "execution_count": 11,
     "metadata": {},
     "output_type": "execute_result"
    }
   ],
   "source": [
    "app_train.loc[:,'AMT_GOODS_PRICE'].describe()"
   ]
  },
  {
   "cell_type": "code",
   "execution_count": 27,
   "metadata": {},
   "outputs": [],
   "source": [
    "price_data = app_train[['AMT_GOODS_PRICE']]"
   ]
  },
  {
   "cell_type": "code",
   "execution_count": 35,
   "metadata": {},
   "outputs": [
    {
     "name": "stdout",
     "output_type": "stream",
     "text": [
      "(36490.5, 1042875.0]      274655\n",
      "(1042875.0, 2045250.0]     31580\n",
      "(2045250.0, 3047625.0]       968\n",
      "(3047625.0, 4050000.0]        30\n",
      "Name: equal_width_price, dtype: int64\n",
      "(40499.999, 238500.0]    79877\n",
      "(238500.0, 450000.0]     78102\n",
      "(679500.0, 4050000.0]    75534\n",
      "(450000.0, 679500.0]     73720\n",
      "Name: equal_freq_price, dtype: int64\n",
      "(40499, 238500]      79877\n",
      "(238500, 450000]     78102\n",
      "(679500, 4050000]    75534\n",
      "(450000, 679500]     73720\n",
      "Name: customized_price_grp, dtype: int64\n"
     ]
    },
    {
     "name": "stderr",
     "output_type": "stream",
     "text": [
      "C:\\Users\\USER\\Anaconda3\\lib\\site-packages\\ipykernel_launcher.py:1: SettingWithCopyWarning: \n",
      "A value is trying to be set on a copy of a slice from a DataFrame.\n",
      "Try using .loc[row_indexer,col_indexer] = value instead\n",
      "\n",
      "See the caveats in the documentation: http://pandas.pydata.org/pandas-docs/stable/indexing.html#indexing-view-versus-copy\n",
      "  \"\"\"Entry point for launching an IPython kernel.\n",
      "C:\\Users\\USER\\Anaconda3\\lib\\site-packages\\ipykernel_launcher.py:4: SettingWithCopyWarning: \n",
      "A value is trying to be set on a copy of a slice from a DataFrame.\n",
      "Try using .loc[row_indexer,col_indexer] = value instead\n",
      "\n",
      "See the caveats in the documentation: http://pandas.pydata.org/pandas-docs/stable/indexing.html#indexing-view-versus-copy\n",
      "  after removing the cwd from sys.path.\n",
      "C:\\Users\\USER\\Anaconda3\\lib\\site-packages\\ipykernel_launcher.py:7: SettingWithCopyWarning: \n",
      "A value is trying to be set on a copy of a slice from a DataFrame.\n",
      "Try using .loc[row_indexer,col_indexer] = value instead\n",
      "\n",
      "See the caveats in the documentation: http://pandas.pydata.org/pandas-docs/stable/indexing.html#indexing-view-versus-copy\n",
      "  import sys\n"
     ]
    }
   ],
   "source": [
    "price_data[\"equal_width_price\"] = pd.cut(price_data['AMT_GOODS_PRICE'], 4)\n",
    "print(price_data[\"equal_width_price\"].value_counts())\n",
    "\n",
    "price_data[\"equal_freq_price\"] = pd.qcut(price_data['AMT_GOODS_PRICE'], 4)\n",
    "print(price_data[\"equal_freq_price\"].value_counts())\n",
    "\n",
    "price_data[\"customized_price_grp\"] = pd.cut(price_data['AMT_GOODS_PRICE'], [40499,238500,450000,679500,4050000])\n",
    "print(price_data[\"customized_price_grp\"].value_counts())"
   ]
  },
  {
   "cell_type": "code",
   "execution_count": 34,
   "metadata": {},
   "outputs": [
    {
     "data": {
      "text/html": [
       "<div>\n",
       "<style scoped>\n",
       "    .dataframe tbody tr th:only-of-type {\n",
       "        vertical-align: middle;\n",
       "    }\n",
       "\n",
       "    .dataframe tbody tr th {\n",
       "        vertical-align: top;\n",
       "    }\n",
       "\n",
       "    .dataframe thead th {\n",
       "        text-align: right;\n",
       "    }\n",
       "</style>\n",
       "<table border=\"1\" class=\"dataframe\">\n",
       "  <thead>\n",
       "    <tr style=\"text-align: right;\">\n",
       "      <th></th>\n",
       "      <th>AMT_GOODS_PRICE</th>\n",
       "      <th>equal_width_price</th>\n",
       "      <th>equal_freq_price</th>\n",
       "      <th>customized_age_grp</th>\n",
       "    </tr>\n",
       "  </thead>\n",
       "  <tbody>\n",
       "    <tr>\n",
       "      <th>0</th>\n",
       "      <td>351000.0</td>\n",
       "      <td>(36490.5, 1042875.0]</td>\n",
       "      <td>(238500.0, 450000.0]</td>\n",
       "      <td>(238500, 450000]</td>\n",
       "    </tr>\n",
       "    <tr>\n",
       "      <th>1</th>\n",
       "      <td>1129500.0</td>\n",
       "      <td>(1042875.0, 2045250.0]</td>\n",
       "      <td>(679500.0, 4050000.0]</td>\n",
       "      <td>(679500, 4050000]</td>\n",
       "    </tr>\n",
       "    <tr>\n",
       "      <th>2</th>\n",
       "      <td>135000.0</td>\n",
       "      <td>(36490.5, 1042875.0]</td>\n",
       "      <td>(40499.999, 238500.0]</td>\n",
       "      <td>(40499, 238500]</td>\n",
       "    </tr>\n",
       "    <tr>\n",
       "      <th>3</th>\n",
       "      <td>297000.0</td>\n",
       "      <td>(36490.5, 1042875.0]</td>\n",
       "      <td>(238500.0, 450000.0]</td>\n",
       "      <td>(238500, 450000]</td>\n",
       "    </tr>\n",
       "    <tr>\n",
       "      <th>4</th>\n",
       "      <td>513000.0</td>\n",
       "      <td>(36490.5, 1042875.0]</td>\n",
       "      <td>(450000.0, 679500.0]</td>\n",
       "      <td>(450000, 679500]</td>\n",
       "    </tr>\n",
       "    <tr>\n",
       "      <th>5</th>\n",
       "      <td>454500.0</td>\n",
       "      <td>(36490.5, 1042875.0]</td>\n",
       "      <td>(450000.0, 679500.0]</td>\n",
       "      <td>(450000, 679500]</td>\n",
       "    </tr>\n",
       "    <tr>\n",
       "      <th>6</th>\n",
       "      <td>1395000.0</td>\n",
       "      <td>(1042875.0, 2045250.0]</td>\n",
       "      <td>(679500.0, 4050000.0]</td>\n",
       "      <td>(679500, 4050000]</td>\n",
       "    </tr>\n",
       "    <tr>\n",
       "      <th>7</th>\n",
       "      <td>1530000.0</td>\n",
       "      <td>(1042875.0, 2045250.0]</td>\n",
       "      <td>(679500.0, 4050000.0]</td>\n",
       "      <td>(679500, 4050000]</td>\n",
       "    </tr>\n",
       "    <tr>\n",
       "      <th>8</th>\n",
       "      <td>913500.0</td>\n",
       "      <td>(36490.5, 1042875.0]</td>\n",
       "      <td>(679500.0, 4050000.0]</td>\n",
       "      <td>(679500, 4050000]</td>\n",
       "    </tr>\n",
       "    <tr>\n",
       "      <th>9</th>\n",
       "      <td>405000.0</td>\n",
       "      <td>(36490.5, 1042875.0]</td>\n",
       "      <td>(238500.0, 450000.0]</td>\n",
       "      <td>(238500, 450000]</td>\n",
       "    </tr>\n",
       "  </tbody>\n",
       "</table>\n",
       "</div>"
      ],
      "text/plain": [
       "   AMT_GOODS_PRICE       equal_width_price       equal_freq_price  \\\n",
       "0         351000.0    (36490.5, 1042875.0]   (238500.0, 450000.0]   \n",
       "1        1129500.0  (1042875.0, 2045250.0]  (679500.0, 4050000.0]   \n",
       "2         135000.0    (36490.5, 1042875.0]  (40499.999, 238500.0]   \n",
       "3         297000.0    (36490.5, 1042875.0]   (238500.0, 450000.0]   \n",
       "4         513000.0    (36490.5, 1042875.0]   (450000.0, 679500.0]   \n",
       "5         454500.0    (36490.5, 1042875.0]   (450000.0, 679500.0]   \n",
       "6        1395000.0  (1042875.0, 2045250.0]  (679500.0, 4050000.0]   \n",
       "7        1530000.0  (1042875.0, 2045250.0]  (679500.0, 4050000.0]   \n",
       "8         913500.0    (36490.5, 1042875.0]  (679500.0, 4050000.0]   \n",
       "9         405000.0    (36490.5, 1042875.0]   (238500.0, 450000.0]   \n",
       "\n",
       "  customized_age_grp  \n",
       "0   (238500, 450000]  \n",
       "1  (679500, 4050000]  \n",
       "2    (40499, 238500]  \n",
       "3   (238500, 450000]  \n",
       "4   (450000, 679500]  \n",
       "5   (450000, 679500]  \n",
       "6  (679500, 4050000]  \n",
       "7  (679500, 4050000]  \n",
       "8  (679500, 4050000]  \n",
       "9   (238500, 450000]  "
      ]
     },
     "execution_count": 34,
     "metadata": {},
     "output_type": "execute_result"
    }
   ],
   "source": [
    "price_data.head(10)"
   ]
  },
  {
   "cell_type": "markdown",
   "metadata": {},
   "source": [
    "# 等區間的貸款呈現出大部分的人都集中在最小貸款36490.5~ 1042875.0間，而等筆數的貸款似乎就是四分位數的翻版"
   ]
  },
  {
   "cell_type": "code",
   "execution_count": null,
   "metadata": {},
   "outputs": [],
   "source": []
  }
 ],
 "metadata": {
  "kernelspec": {
   "display_name": "Python 3",
   "language": "python",
   "name": "python3"
  },
  "language_info": {
   "codemirror_mode": {
    "name": "ipython",
    "version": 3
   },
   "file_extension": ".py",
   "mimetype": "text/x-python",
   "name": "python",
   "nbconvert_exporter": "python",
   "pygments_lexer": "ipython3",
   "version": "3.7.0"
  }
 },
 "nbformat": 4,
 "nbformat_minor": 2
}
