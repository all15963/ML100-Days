{
 "cells": [
  {
   "cell_type": "markdown",
   "metadata": {},
   "source": [
    "## Work\n",
    "1. 請嘗試寫一個 callback 用來記錄各類別在訓練過程中，對驗證集的 True Positive 與 True Negative"
   ]
  },
  {
   "cell_type": "code",
   "execution_count": 1,
   "metadata": {},
   "outputs": [
    {
     "name": "stderr",
     "output_type": "stream",
     "text": [
      "Using TensorFlow backend.\n"
     ]
    }
   ],
   "source": [
    "import keras\n",
    "from keras.models import Sequential\n",
    "from keras.layers import Dense,BatchNormalization\n",
    "from keras.callbacks import Callback\n",
    "import matplotlib.pyplot as plt\n",
    "%matplotlib inline\n",
    "\n",
    "from sklearn.metrics import confusion_matrix\n",
    "# Disable GPU\n",
    "#os.environ[\"CUDA_VISIBLE_DEVICES\"] = \"\""
   ]
  },
  {
   "cell_type": "code",
   "execution_count": 2,
   "metadata": {},
   "outputs": [],
   "source": [
    "train, test = keras.datasets.cifar10.load_data()"
   ]
  },
  {
   "cell_type": "code",
   "execution_count": 3,
   "metadata": {},
   "outputs": [],
   "source": [
    "## 資料前處理\n",
    "def preproc_x(x, flatten=True):\n",
    "    x = x / 255.\n",
    "    if flatten:\n",
    "        x = x.reshape((len(x), -1))\n",
    "    return x\n",
    "\n",
    "def preproc_y(y, num_classes=10):\n",
    "    if y.shape[-1] == 1:\n",
    "        y = keras.utils.to_categorical(y, num_classes)\n",
    "    return y    "
   ]
  },
  {
   "cell_type": "code",
   "execution_count": 4,
   "metadata": {},
   "outputs": [],
   "source": [
    "x_train, y_train = train\n",
    "x_test, y_test = test\n",
    "\n",
    "# Preproc the inputs\n",
    "x_train = preproc_x(x_train)\n",
    "x_test = preproc_x(x_test)\n",
    "\n",
    "# Preprc the outputs\n",
    "y_train = preproc_y(y_train)\n",
    "y_test = preproc_y(y_test)"
   ]
  },
  {
   "cell_type": "code",
   "execution_count": 5,
   "metadata": {},
   "outputs": [],
   "source": [
    "from keras.layers import BatchNormalization\n",
    "def build_mlp(input_shape, output_units=10, num_neurons=[512, 256, 128]):\n",
    "    \"\"\"\n",
    "    TO DO:\n",
    "    Build your own model\n",
    "    \"\"\"\n",
    "   \n",
    "    \n",
    "    model = Sequential()\n",
    "    model.add(Dense(units = input_shape[1] ,input_dim = input_shape[1], kernel_initializer = 'normal', activation = 'relu',name = 'input'))\n",
    "    \n",
    "    for i, n_units in enumerate(num_neurons):\n",
    "        model.add(Dense(units=n_units, kernel_initializer='normal', activation='relu',name=\"hidden_layer\"+str(i+1)))  \n",
    "        model.add(BatchNormalization())         \n",
    "    \n",
    "    model.add(Dense(units=output_units,kernel_initializer='normal', activation='softmax',name='output'))\n",
    "\n",
    "    return model"
   ]
  },
  {
   "cell_type": "code",
   "execution_count": 6,
   "metadata": {},
   "outputs": [],
   "source": [
    "## 超參數設定\n",
    "LEARNING_RATE = 1e-3\n",
    "EPOCHS = 25\n",
    "BATCH_SIZE = 1024\n",
    "MOMENTUM = 0.95"
   ]
  },
  {
   "cell_type": "code",
   "execution_count": 7,
   "metadata": {},
   "outputs": [],
   "source": [
    "# 載入 Callbacks\n",
    "from keras.callbacks import Callback\n",
    "\n",
    "\n",
    "# Record_fp_tp\n",
    "class Record_tp_tn(Callback):\n",
    "    \"\"\"Define a callback function to collect tp/tn, named Record_fp_tp.\n",
    "    \n",
    "    \"\"\"\n",
    "    \n",
    "    def on_train_begin(self, epoch, logs = {}):\n",
    "        logs = logs or {}\n",
    "        record_items = [\"val_auc\", \"val_f1sc\", \"val_fp\", \"val_fn\", \"val_tp\", \"val_tn\"]\n",
    "        for i in record_items:\n",
    "            if i not in self.params['metrics']:\n",
    "                self.params['metrics'].append(i)\n",
    "    \n",
    "    def on_epoch_end(self, epoch, logs = {}, thres=0.5):\n",
    "        logs = logs or {}\n",
    "        y_true = self.validation_data[1].argmax(axis = 1)\n",
    "        y_pred = self.model.predict(self.validation_data[0])\n",
    "        y_pred = (y_pred[:, 1] >= thres) * 1\n",
    "        \n",
    "        CM=confusion_matrix(y_true, y_pred)\n",
    "        logs['val_tp'] =CM[0][0]\n",
    "        logs['val_tn'] =CM[1][1]\n",
    "        \n",
    "        \n",
    "rec_tptn = Record_tp_tn()"
   ]
  },
  {
   "cell_type": "code",
   "execution_count": 9,
   "metadata": {
    "scrolled": true
   },
   "outputs": [
    {
     "name": "stdout",
     "output_type": "stream",
     "text": [
      "_________________________________________________________________\n",
      "Layer (type)                 Output Shape              Param #   \n",
      "=================================================================\n",
      "input (Dense)                (None, 3072)              9440256   \n",
      "_________________________________________________________________\n",
      "hidden_layer1 (Dense)        (None, 512)               1573376   \n",
      "_________________________________________________________________\n",
      "batch_normalization_1 (Batch (None, 512)               2048      \n",
      "_________________________________________________________________\n",
      "hidden_layer2 (Dense)        (None, 256)               131328    \n",
      "_________________________________________________________________\n",
      "batch_normalization_2 (Batch (None, 256)               1024      \n",
      "_________________________________________________________________\n",
      "hidden_layer3 (Dense)        (None, 128)               32896     \n",
      "_________________________________________________________________\n",
      "batch_normalization_3 (Batch (None, 128)               512       \n",
      "_________________________________________________________________\n",
      "output (Dense)               (None, 10)                1290      \n",
      "=================================================================\n",
      "Total params: 11,182,730\n",
      "Trainable params: 11,180,938\n",
      "Non-trainable params: 1,792\n",
      "_________________________________________________________________\n",
      "Train on 50000 samples, validate on 10000 samples\n",
      "Epoch 1/25\n",
      "50000/50000 [==============================] - 70s 1ms/step - loss: 2.1811 - acc: 0.2120 - val_loss: 1.9701 - val_acc: 0.2967\n",
      "Epoch 2/25\n",
      "50000/50000 [==============================] - 67s 1ms/step - loss: 1.8499 - acc: 0.3377 - val_loss: 1.8110 - val_acc: 0.3564\n",
      "Epoch 3/25\n",
      "50000/50000 [==============================] - 66s 1ms/step - loss: 1.7349 - acc: 0.3880 - val_loss: 1.7295 - val_acc: 0.3869\n",
      "Epoch 4/25\n",
      "50000/50000 [==============================] - 68s 1ms/step - loss: 1.6629 - acc: 0.4128 - val_loss: 1.6798 - val_acc: 0.4051\n",
      "Epoch 5/25\n",
      "50000/50000 [==============================] - 65s 1ms/step - loss: 1.6075 - acc: 0.4330 - val_loss: 1.6416 - val_acc: 0.4210\n",
      "Epoch 6/25\n",
      "50000/50000 [==============================] - 67s 1ms/step - loss: 1.5633 - acc: 0.4486 - val_loss: 1.6044 - val_acc: 0.4346\n",
      "Epoch 7/25\n",
      "50000/50000 [==============================] - 68s 1ms/step - loss: 1.5265 - acc: 0.4620 - val_loss: 1.5876 - val_acc: 0.4423\n",
      "Epoch 8/25\n",
      "50000/50000 [==============================] - 68s 1ms/step - loss: 1.4936 - acc: 0.4739 - val_loss: 1.5600 - val_acc: 0.4476\n",
      "Epoch 9/25\n",
      "50000/50000 [==============================] - 66s 1ms/step - loss: 1.4644 - acc: 0.4842 - val_loss: 1.5521 - val_acc: 0.4525\n",
      "Epoch 10/25\n",
      "50000/50000 [==============================] - 65s 1ms/step - loss: 1.4353 - acc: 0.4948 - val_loss: 1.5265 - val_acc: 0.4588\n",
      "Epoch 11/25\n",
      "50000/50000 [==============================] - 64s 1ms/step - loss: 1.4100 - acc: 0.5045 - val_loss: 1.5140 - val_acc: 0.4626\n",
      "Epoch 12/25\n",
      "50000/50000 [==============================] - 69s 1ms/step - loss: 1.3850 - acc: 0.5122 - val_loss: 1.5046 - val_acc: 0.4620\n",
      "Epoch 13/25\n",
      "50000/50000 [==============================] - 67s 1ms/step - loss: 1.3628 - acc: 0.5203 - val_loss: 1.4997 - val_acc: 0.4669\n",
      "Epoch 14/25\n",
      "50000/50000 [==============================] - 67s 1ms/step - loss: 1.3400 - acc: 0.5284 - val_loss: 1.4851 - val_acc: 0.4731\n",
      "Epoch 15/25\n",
      "50000/50000 [==============================] - 66s 1ms/step - loss: 1.3179 - acc: 0.5368 - val_loss: 1.4804 - val_acc: 0.4757\n",
      "Epoch 16/25\n",
      "50000/50000 [==============================] - 69s 1ms/step - loss: 1.2961 - acc: 0.5446 - val_loss: 1.4754 - val_acc: 0.4759\n",
      "Epoch 17/25\n",
      "50000/50000 [==============================] - 68s 1ms/step - loss: 1.2759 - acc: 0.5514 - val_loss: 1.4657 - val_acc: 0.4795\n",
      "Epoch 18/25\n",
      "50000/50000 [==============================] - 64s 1ms/step - loss: 1.2545 - acc: 0.5597 - val_loss: 1.4673 - val_acc: 0.4786\n",
      "Epoch 19/25\n",
      "50000/50000 [==============================] - 64s 1ms/step - loss: 1.2344 - acc: 0.5670 - val_loss: 1.4600 - val_acc: 0.4815\n",
      "Epoch 20/25\n",
      "50000/50000 [==============================] - 64s 1ms/step - loss: 1.2153 - acc: 0.5742 - val_loss: 1.4598 - val_acc: 0.4849\n",
      "Epoch 21/25\n",
      "50000/50000 [==============================] - 64s 1ms/step - loss: 1.1958 - acc: 0.5800 - val_loss: 1.4510 - val_acc: 0.4910\n",
      "Epoch 22/25\n",
      "50000/50000 [==============================] - 74s 1ms/step - loss: 1.1765 - acc: 0.5881 - val_loss: 1.4455 - val_acc: 0.4840\n",
      "Epoch 23/25\n",
      "50000/50000 [==============================] - 70s 1ms/step - loss: 1.1561 - acc: 0.5961 - val_loss: 1.4471 - val_acc: 0.4895\n",
      "Epoch 24/25\n",
      "50000/50000 [==============================] - 68s 1ms/step - loss: 1.1369 - acc: 0.6021 - val_loss: 1.4502 - val_acc: 0.4888\n",
      "Epoch 25/25\n",
      "50000/50000 [==============================] - 65s 1ms/step - loss: 1.1183 - acc: 0.6105 - val_loss: 1.4470 - val_acc: 0.4910\n"
     ]
    }
   ],
   "source": [
    "model = build_mlp(input_shape=x_train.shape)\n",
    "model.summary()\n",
    "optimizer = keras.optimizers.SGD(lr=LEARNING_RATE, nesterov=True, momentum=MOMENTUM)\n",
    "model.compile(loss=\"categorical_crossentropy\", metrics=[\"accuracy\"], optimizer=optimizer)\n",
    "\n",
    "\"\"\"\n",
    "To do:\n",
    "Fit the model with rec_tptn callback_fn\n",
    "\"\"\"\n",
    "model.fit(x_train, y_train, \n",
    "          epochs=EPOCHS, \n",
    "          batch_size=BATCH_SIZE, \n",
    "          validation_data=(x_test, y_test), \n",
    "          shuffle=True,\n",
    "          callbacks=[rec_tptn]\n",
    "         )\n",
    "\n",
    "\n",
    "# Collect results\n",
    "train_loss = model.history.history[\"loss\"]\n",
    "valid_loss = model.history.history[\"val_loss\"]\n",
    "train_acc = model.history.history[\"acc\"]\n",
    "valid_acc = model.history.history[\"val_acc\"]\n",
    "\n",
    "\"\"\"\n",
    "To do:\n",
    "Collect tp/tn from model history\n",
    "\"\"\"\n",
    "valid_tp = model.history.history[\"val_tp\"]\n",
    "valid_tn = model.history.history[\"val_tn\"]"
   ]
  },
  {
   "cell_type": "code",
   "execution_count": 10,
   "metadata": {},
   "outputs": [
    {
     "data": {
      "image/png": "[encoded data removed]",
      "text/plain": [
       "<Figure size 432x288 with 1 Axes>"
      ]
     },
     "metadata": {
      "needs_background": "light"
     },
     "output_type": "display_data"
    },
    {
     "data": {
      "image/png": "[encoded data removed]",
      "text/plain": [
       "<Figure size 432x288 with 1 Axes>"
      ]
     },
     "metadata": {
      "needs_background": "light"
     },
     "output_type": "display_data"
    },
    {
     "data": {
      "image/png": "[encoded data removed]",
      "text/plain": [
       "<Figure size 432x288 with 1 Axes>"
      ]
     },
     "metadata": {
      "needs_background": "light"
     },
     "output_type": "display_data"
    }
   ],
   "source": [
    "import matplotlib.pyplot as plt\n",
    "%matplotlib inline\n",
    "\n",
    "plt.plot(range(len(train_loss)), train_loss, label=\"train loss\")\n",
    "plt.plot(range(len(valid_loss)), valid_loss, label=\"valid loss\")\n",
    "plt.legend()\n",
    "plt.title(\"Loss\")\n",
    "plt.show()\n",
    "\n",
    "plt.plot(range(len(train_acc)), train_acc, label=\"train accuracy\")\n",
    "plt.plot(range(len(valid_acc)), valid_acc, label=\"valid accuracy\")\n",
    "plt.legend()\n",
    "plt.title(\"Accuracy\")\n",
    "plt.show()\n",
    "\n",
    "plt.plot(range(len(valid_tp)), valid_tp, label=\"valid tp\", color=\"navy\")\n",
    "plt.plot(range(len(valid_tn)), valid_tn, label=\"valid tn\", color=\"red\")\n",
    "plt.legend()\n",
    "plt.title(\"True positives and True Negatives\")\n",
    "plt.show()\n"
   ]
  },
  {
   "cell_type": "code",
   "execution_count": null,
   "metadata": {},
   "outputs": [],
   "source": []
  }
 ],
 "metadata": {
  "kernelspec": {
   "display_name": "Python 3",
   "language": "python",
   "name": "python3"
  },
  "language_info": {
   "codemirror_mode": {
    "name": "ipython",
    "version": 3
   },
   "file_extension": ".py",
   "mimetype": "text/x-python",
   "name": "python",
   "nbconvert_exporter": "python",
   "pygments_lexer": "ipython3",
   "version": "3.6.7"
  }
 },
 "nbformat": 4,
 "nbformat_minor": 2
}
