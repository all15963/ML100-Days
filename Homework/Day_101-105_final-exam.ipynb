{
 "cells": [
  {
   "cell_type": "code",
   "execution_count": 2,
   "metadata": {},
   "outputs": [
    {
     "name": "stderr",
     "output_type": "stream",
     "text": [
      "Using TensorFlow backend.\n"
     ]
    }
   ],
   "source": [
    "import numpy as np\n",
    "import keras\n",
    "from keras.preprocessing.image import ImageDataGenerator\n",
    "from keras.models import Sequential\n",
    "from keras.layers import Dense, Dropout, Activation, Flatten\n",
    "from keras.layers import Conv2D, MaxPooling2D\n",
    "from keras.optimizers import RMSprop, Adam\n",
    "\n",
    "from keras.callbacks import EarlyStopping\n",
    "from keras.callbacks import ReduceLROnPlateau\n",
    "\n",
    "\n",
    "from glob import glob"
   ]
  },
  {
   "cell_type": "code",
   "execution_count": 2,
   "metadata": {},
   "outputs": [],
   "source": [
    "daisy = glob('train\\\\daisy\\\\*.jpg')\n",
    "dandelion = glob('train\\\\dandelion\\\\*.jpg')\n",
    "rose = glob('train\\\\rose\\\\*.jpg')\n",
    "sunflower = glob('train\\\\sunflower\\\\*.jpg')\n",
    "tulip = glob('train\\\\tulip\\\\*.jpg')\n",
    "\n",
    "\n",
    "test = glob('test\\\\*.jpg')"
   ]
  },
  {
   "cell_type": "code",
   "execution_count": 3,
   "metadata": {},
   "outputs": [],
   "source": [
    "Daisy = np.array(daisy)\n",
    "Dandelion = np.array(dandelion)\n",
    "Rose = np.array(rose)\n",
    "Sunflower = np.array(sunflower)\n",
    "Tulip = np.array(tulip)\n",
    "train_num = len(Daisy)+len(Dandelion)+len(Rose)+len(Sunflower)+len(Tulip)\n",
    "\n",
    "Test= np.array(test)"
   ]
  },
  {
   "cell_type": "code",
   "execution_count": 4,
   "metadata": {},
   "outputs": [
    {
     "name": "stdout",
     "output_type": "stream",
     "text": [
      "daisy size : 500\n",
      "dandelion : 687\n",
      "rose : 515\n",
      "sunflower : 488\n",
      "tulip : 633\n",
      "test_files size : 2000\n"
     ]
    }
   ],
   "source": [
    "print(\"daisy size :\", len(Daisy))\n",
    "print(\"dandelion :\", len(Dandelion))\n",
    "print(\"rose :\", len(Rose))\n",
    "print(\"sunflower :\", len(Sunflower))\n",
    "print(\"tulip :\", len(Tulip))\n",
    "print(\"test_files size :\", len(Test))"
   ]
  },
  {
   "cell_type": "code",
   "execution_count": 5,
   "metadata": {},
   "outputs": [],
   "source": [
    "data_generator = ImageDataGenerator(rotation_range=20,\n",
    "                                   validation_split = 0.1, #切割訓練集為驗證集之比例\n",
    "                                   width_shift_range=0.2,\n",
    "                                   height_shift_range=0.2,\n",
    "                                   horizontal_flip=True,\n",
    "                                   fill_mode='wrap')\n"
   ]
  },
  {
   "cell_type": "code",
   "execution_count": 6,
   "metadata": {},
   "outputs": [],
   "source": [
    "from keras.callbacks import EarlyStopping\n",
    "\n",
    "earlystop = EarlyStopping(monitor=\"val_acc\", patience=10, verbose=1 )"
   ]
  },
  {
   "cell_type": "code",
   "execution_count": 7,
   "metadata": {},
   "outputs": [],
   "source": [
    "from keras.callbacks import ReduceLROnPlateau\n",
    "\n",
    "reduce_lr = ReduceLROnPlateau(factor=0.5, \n",
    "                              min_lr=1e-12, \n",
    "                              monitor='val_loss', \n",
    "                              patience=5, \n",
    "                              verbose=1)"
   ]
  },
  {
   "cell_type": "markdown",
   "metadata": {},
   "source": [
    "# 模型程式碼"
   ]
  },
  {
   "cell_type": "markdown",
   "metadata": {},
   "source": [
    "import keras\n",
    "from keras.layers import Dense, Conv2D, BatchNormalization, Activation\n",
    "from keras.layers import MaxPooling2D, Input, Flatten\n",
    "from keras.layers import Dense,Dropout,Flatten,Dot,Add,Concatenate,Input,BatchNormalization,Activation\n",
    "from keras.regularizers import l2\n",
    "from keras import backend as K\n",
    "from keras.models import Model\n",
    "\n",
    "def CNNmodel(input_shape, num_classes=5, drop = 0.5):\n",
    "    inputs = Input(shape=input_shape)\n",
    "    cnn = Conv2D(32, (3,3), padding='valid', input_shape=input_shape)(inputs)\n",
    "    cnn = BatchNormalization()(cnn)\n",
    "    cnn = Activation('relu')(cnn)\n",
    "    cnn = Conv2D(48, (3,3), padding='valid')(cnn)\n",
    "    cnn = BatchNormalization()(cnn)\n",
    "    cnn = Activation('relu')(cnn)\n",
    "    cnn = MaxPooling2D(pool_size=2)(cnn)\n",
    "    cnn = Dropout(drop)(cnn)\n",
    "    cnn = Conv2D(64, (3,3), padding='valid')(cnn)\n",
    "    cnn = BatchNormalization()(cnn)\n",
    "    cnn = Activation('relu')(cnn)\n",
    "    cnn = Conv2D(80, (3,3), padding='valid')(cnn)\n",
    "    cnn = BatchNormalization()(cnn)\n",
    "    cnn = Activation('relu')(cnn)\n",
    "    cnn = MaxPooling2D(pool_size=2)(cnn)\n",
    "    cnn = Dropout(drop)(cnn)\n",
    "    cnn = Conv2D(96, (3,3), padding='valid')(cnn)\n",
    "    cnn = BatchNormalization()(cnn)\n",
    "    cnn = Activation('relu')(cnn)\n",
    "    cnn = Conv2D(112, (3,3), padding='valid')(cnn)\n",
    "    cnn = BatchNormalization()(cnn)\n",
    "    cnn = Activation('relu')(cnn)\n",
    "    cnn = MaxPooling2D(pool_size=2)(cnn)\n",
    "    cnn = Dropout(drop)(cnn)\n",
    "    cnn = Conv2D(128, (3,3), padding='valid')(cnn)\n",
    "    cnn = BatchNormalization()(cnn)\n",
    "    cnn = Activation('relu')(cnn)\n",
    "    cnn = Conv2D(144, (3,3), padding='valid')(cnn)\n",
    "    cnn = BatchNormalization()(cnn)\n",
    "    cnn = Activation('relu')(cnn)\n",
    "    cnn = MaxPooling2D(pool_size=2)(cnn)\n",
    "    y = Flatten()(cnn)\n",
    "    hidden = Dense(1024)(y)\n",
    "    hidden = Activation('relu')(hidden)\n",
    "    hidden = Dropout(drop)(hidden)\n",
    "    hidden = Dense(512)(hidden)\n",
    "    hidden = Activation('relu')(hidden)\n",
    "    hidden = Dropout(drop)(hidden)\n",
    "    hidden = Dense(128)(hidden)\n",
    "    hidden = Activation('relu')(hidden)\n",
    "    outputs = Dense(num_classes,\n",
    "                    activation='softmax')(hidden)\n",
    "    model = Model(inputs=inputs, outputs=outputs)\n",
    "    return model"
   ]
  },
  {
   "cell_type": "markdown",
   "metadata": {},
   "source": [
    "# 讀取建立好的CNN模型"
   ]
  },
  {
   "cell_type": "code",
   "execution_count": 8,
   "metadata": {},
   "outputs": [
    {
     "name": "stdout",
     "output_type": "stream",
     "text": [
      "_________________________________________________________________\n",
      "Layer (type)                 Output Shape              Param #   \n",
      "=================================================================\n",
      "input_1 (InputLayer)         (None, 128, 128, 3)       0         \n",
      "_________________________________________________________________\n",
      "conv2d_1 (Conv2D)            (None, 126, 126, 32)      896       \n",
      "_________________________________________________________________\n",
      "batch_normalization_1 (Batch (None, 126, 126, 32)      128       \n",
      "_________________________________________________________________\n",
      "activation_1 (Activation)    (None, 126, 126, 32)      0         \n",
      "_________________________________________________________________\n",
      "conv2d_2 (Conv2D)            (None, 124, 124, 48)      13872     \n",
      "_________________________________________________________________\n",
      "batch_normalization_2 (Batch (None, 124, 124, 48)      192       \n",
      "_________________________________________________________________\n",
      "activation_2 (Activation)    (None, 124, 124, 48)      0         \n",
      "_________________________________________________________________\n",
      "max_pooling2d_1 (MaxPooling2 (None, 62, 62, 48)        0         \n",
      "_________________________________________________________________\n",
      "dropout_1 (Dropout)          (None, 62, 62, 48)        0         \n",
      "_________________________________________________________________\n",
      "conv2d_3 (Conv2D)            (None, 60, 60, 64)        27712     \n",
      "_________________________________________________________________\n",
      "batch_normalization_3 (Batch (None, 60, 60, 64)        256       \n",
      "_________________________________________________________________\n",
      "activation_3 (Activation)    (None, 60, 60, 64)        0         \n",
      "_________________________________________________________________\n",
      "conv2d_4 (Conv2D)            (None, 58, 58, 80)        46160     \n",
      "_________________________________________________________________\n",
      "batch_normalization_4 (Batch (None, 58, 58, 80)        320       \n",
      "_________________________________________________________________\n",
      "activation_4 (Activation)    (None, 58, 58, 80)        0         \n",
      "_________________________________________________________________\n",
      "max_pooling2d_2 (MaxPooling2 (None, 29, 29, 80)        0         \n",
      "_________________________________________________________________\n",
      "dropout_2 (Dropout)          (None, 29, 29, 80)        0         \n",
      "_________________________________________________________________\n",
      "conv2d_5 (Conv2D)            (None, 27, 27, 96)        69216     \n",
      "_________________________________________________________________\n",
      "batch_normalization_5 (Batch (None, 27, 27, 96)        384       \n",
      "_________________________________________________________________\n",
      "activation_5 (Activation)    (None, 27, 27, 96)        0         \n",
      "_________________________________________________________________\n",
      "conv2d_6 (Conv2D)            (None, 25, 25, 112)       96880     \n",
      "_________________________________________________________________\n",
      "batch_normalization_6 (Batch (None, 25, 25, 112)       448       \n",
      "_________________________________________________________________\n",
      "activation_6 (Activation)    (None, 25, 25, 112)       0         \n",
      "_________________________________________________________________\n",
      "max_pooling2d_3 (MaxPooling2 (None, 12, 12, 112)       0         \n",
      "_________________________________________________________________\n",
      "dropout_3 (Dropout)          (None, 12, 12, 112)       0         \n",
      "_________________________________________________________________\n",
      "conv2d_7 (Conv2D)            (None, 10, 10, 128)       129152    \n",
      "_________________________________________________________________\n",
      "batch_normalization_7 (Batch (None, 10, 10, 128)       512       \n",
      "_________________________________________________________________\n",
      "activation_7 (Activation)    (None, 10, 10, 128)       0         \n",
      "_________________________________________________________________\n",
      "conv2d_8 (Conv2D)            (None, 8, 8, 144)         166032    \n",
      "_________________________________________________________________\n",
      "batch_normalization_8 (Batch (None, 8, 8, 144)         576       \n",
      "_________________________________________________________________\n",
      "activation_8 (Activation)    (None, 8, 8, 144)         0         \n",
      "_________________________________________________________________\n",
      "max_pooling2d_4 (MaxPooling2 (None, 4, 4, 144)         0         \n",
      "_________________________________________________________________\n",
      "conv2d_9 (Conv2D)            (None, 1, 1, 256)         590080    \n",
      "_________________________________________________________________\n",
      "batch_normalization_9 (Batch (None, 1, 1, 256)         1024      \n",
      "_________________________________________________________________\n",
      "activation_9 (Activation)    (None, 1, 1, 256)         0         \n",
      "_________________________________________________________________\n",
      "dropout_4 (Dropout)          (None, 1, 1, 256)         0         \n",
      "_________________________________________________________________\n",
      "flatten_1 (Flatten)          (None, 256)               0         \n",
      "_________________________________________________________________\n",
      "dense_1 (Dense)              (None, 1024)              263168    \n",
      "_________________________________________________________________\n",
      "activation_10 (Activation)   (None, 1024)              0         \n",
      "_________________________________________________________________\n",
      "dropout_5 (Dropout)          (None, 1024)              0         \n",
      "_________________________________________________________________\n",
      "dense_2 (Dense)              (None, 512)               524800    \n",
      "_________________________________________________________________\n",
      "activation_11 (Activation)   (None, 512)               0         \n",
      "_________________________________________________________________\n",
      "dropout_6 (Dropout)          (None, 512)               0         \n",
      "_________________________________________________________________\n",
      "dense_3 (Dense)              (None, 128)               65664     \n",
      "_________________________________________________________________\n",
      "activation_12 (Activation)   (None, 128)               0         \n",
      "_________________________________________________________________\n",
      "dense_4 (Dense)              (None, 5)                 645       \n",
      "=================================================================\n",
      "Total params: 1,998,117\n",
      "Trainable params: 1,996,197\n",
      "Non-trainable params: 1,920\n",
      "_________________________________________________________________\n"
     ]
    }
   ],
   "source": [
    "from model import CNNmodel \n",
    "model = CNNmodel(input_shape=(128,128,3)) \n",
    "model.summary()"
   ]
  },
  {
   "cell_type": "code",
   "execution_count": 9,
   "metadata": {},
   "outputs": [
    {
     "name": "stdout",
     "output_type": "stream",
     "text": [
      "Found 2543 images belonging to 5 classes.\n",
      "Found 280 images belonging to 5 classes.\n",
      "Epoch 1/100\n",
      "88/88 [==============================] - 15s 170ms/step - loss: 1.3882 - acc: 0.4075 - val_loss: 2.0301 - val_acc: 0.4107\n",
      "Epoch 2/100\n",
      "88/88 [==============================] - 13s 143ms/step - loss: 1.1986 - acc: 0.5132 - val_loss: 7.2182 - val_acc: 0.2107\n",
      "Epoch 3/100\n",
      "88/88 [==============================] - 13s 147ms/step - loss: 1.1139 - acc: 0.5419 - val_loss: 2.3891 - val_acc: 0.4143\n",
      "Epoch 4/100\n",
      "88/88 [==============================] - 13s 148ms/step - loss: 1.0920 - acc: 0.5627 - val_loss: 1.1386 - val_acc: 0.5500\n",
      "Epoch 5/100\n",
      "88/88 [==============================] - 13s 148ms/step - loss: 1.0141 - acc: 0.5871 - val_loss: 1.8831 - val_acc: 0.4643\n",
      "Epoch 6/100\n",
      "88/88 [==============================] - 13s 147ms/step - loss: 0.9830 - acc: 0.5985 - val_loss: 1.0685 - val_acc: 0.5857\n",
      "Epoch 7/100\n",
      "88/88 [==============================] - 13s 146ms/step - loss: 0.9811 - acc: 0.6194 - val_loss: 0.9831 - val_acc: 0.6143\n",
      "Epoch 8/100\n",
      "88/88 [==============================] - 13s 147ms/step - loss: 0.9197 - acc: 0.6415 - val_loss: 1.0972 - val_acc: 0.6536\n",
      "Epoch 9/100\n",
      "88/88 [==============================] - 13s 148ms/step - loss: 0.8814 - acc: 0.6660 - val_loss: 1.2441 - val_acc: 0.5536\n",
      "Epoch 10/100\n",
      "88/88 [==============================] - 13s 148ms/step - loss: 0.8938 - acc: 0.6578 - val_loss: 1.1479 - val_acc: 0.6500\n",
      "Epoch 11/100\n",
      "88/88 [==============================] - 13s 147ms/step - loss: 0.8621 - acc: 0.6752 - val_loss: 0.9673 - val_acc: 0.6607\n",
      "Epoch 12/100\n",
      "88/88 [==============================] - 13s 150ms/step - loss: 0.8776 - acc: 0.6714 - val_loss: 0.8482 - val_acc: 0.6750\n",
      "Epoch 13/100\n",
      "88/88 [==============================] - 13s 147ms/step - loss: 0.8514 - acc: 0.6845 - val_loss: 0.8747 - val_acc: 0.6929\n",
      "Epoch 14/100\n",
      "88/88 [==============================] - 13s 151ms/step - loss: 0.8275 - acc: 0.6921 - val_loss: 0.8832 - val_acc: 0.6571\n",
      "Epoch 15/100\n",
      "88/88 [==============================] - 13s 147ms/step - loss: 0.8202 - acc: 0.6965 - val_loss: 1.1226 - val_acc: 0.5821\n",
      "Epoch 16/100\n",
      "88/88 [==============================] - 13s 148ms/step - loss: 0.7635 - acc: 0.7148 - val_loss: 1.1154 - val_acc: 0.5893\n",
      "Epoch 17/100\n",
      "88/88 [==============================] - 13s 149ms/step - loss: 0.7700 - acc: 0.7162 - val_loss: 0.7589 - val_acc: 0.7286\n",
      "Epoch 18/100\n",
      "88/88 [==============================] - 13s 146ms/step - loss: 0.7806 - acc: 0.7168 - val_loss: 0.9435 - val_acc: 0.6571\n",
      "Epoch 19/100\n",
      "88/88 [==============================] - 13s 147ms/step - loss: 0.7631 - acc: 0.7161 - val_loss: 1.4913 - val_acc: 0.5464\n",
      "Epoch 20/100\n",
      "88/88 [==============================] - 13s 149ms/step - loss: 0.7628 - acc: 0.7222 - val_loss: 0.9484 - val_acc: 0.6893\n",
      "Epoch 21/100\n",
      "88/88 [==============================] - 13s 149ms/step - loss: 0.7397 - acc: 0.7391 - val_loss: 0.8033 - val_acc: 0.7179\n",
      "Epoch 22/100\n",
      "88/88 [==============================] - 13s 149ms/step - loss: 0.7107 - acc: 0.7461 - val_loss: 0.8347 - val_acc: 0.7286\n",
      "\n",
      "Epoch 00022: ReduceLROnPlateau reducing learning rate to 0.0005000000237487257.\n",
      "Epoch 23/100\n",
      "88/88 [==============================] - 13s 146ms/step - loss: 0.6596 - acc: 0.7680 - val_loss: 0.6970 - val_acc: 0.7393\n",
      "Epoch 24/100\n",
      "88/88 [==============================] - 13s 145ms/step - loss: 0.6047 - acc: 0.7790 - val_loss: 0.7008 - val_acc: 0.7464\n",
      "Epoch 25/100\n",
      "88/88 [==============================] - 13s 149ms/step - loss: 0.6211 - acc: 0.7693 - val_loss: 0.6814 - val_acc: 0.7643\n",
      "Epoch 26/100\n",
      "88/88 [==============================] - 13s 150ms/step - loss: 0.6137 - acc: 0.7823 - val_loss: 0.6026 - val_acc: 0.7786\n",
      "Epoch 27/100\n",
      "88/88 [==============================] - 13s 146ms/step - loss: 0.6212 - acc: 0.7718 - val_loss: 0.5774 - val_acc: 0.7571\n",
      "Epoch 28/100\n",
      "88/88 [==============================] - 13s 149ms/step - loss: 0.5975 - acc: 0.7853 - val_loss: 0.6578 - val_acc: 0.7679\n",
      "Epoch 29/100\n",
      "88/88 [==============================] - 13s 147ms/step - loss: 0.5788 - acc: 0.7954 - val_loss: 0.5850 - val_acc: 0.7750\n",
      "Epoch 30/100\n",
      "88/88 [==============================] - 13s 147ms/step - loss: 0.5741 - acc: 0.7943 - val_loss: 0.7084 - val_acc: 0.7286\n",
      "Epoch 31/100\n",
      "88/88 [==============================] - 13s 147ms/step - loss: 0.5871 - acc: 0.7889 - val_loss: 0.6178 - val_acc: 0.7929\n",
      "Epoch 32/100\n",
      "88/88 [==============================] - 13s 147ms/step - loss: 0.5691 - acc: 0.7886 - val_loss: 0.5899 - val_acc: 0.7821\n",
      "\n",
      "Epoch 00032: ReduceLROnPlateau reducing learning rate to 0.0002500000118743628.\n",
      "Epoch 33/100\n",
      "88/88 [==============================] - 13s 148ms/step - loss: 0.5284 - acc: 0.8089 - val_loss: 0.5751 - val_acc: 0.7929\n",
      "Epoch 34/100\n",
      "88/88 [==============================] - 13s 147ms/step - loss: 0.4955 - acc: 0.8262 - val_loss: 0.5032 - val_acc: 0.7964\n",
      "Epoch 35/100\n",
      "88/88 [==============================] - 13s 149ms/step - loss: 0.5097 - acc: 0.8190 - val_loss: 0.4526 - val_acc: 0.8571\n",
      "Epoch 36/100\n",
      "88/88 [==============================] - 13s 149ms/step - loss: 0.4560 - acc: 0.8362 - val_loss: 0.4091 - val_acc: 0.8500\n",
      "Epoch 37/100\n",
      "88/88 [==============================] - 13s 150ms/step - loss: 0.4900 - acc: 0.8273 - val_loss: 0.4746 - val_acc: 0.8393\n",
      "Epoch 38/100\n",
      "88/88 [==============================] - 13s 151ms/step - loss: 0.4784 - acc: 0.8292 - val_loss: 0.5401 - val_acc: 0.8107\n",
      "Epoch 39/100\n",
      "88/88 [==============================] - 13s 147ms/step - loss: 0.5124 - acc: 0.8157 - val_loss: 0.5328 - val_acc: 0.8071\n",
      "Epoch 40/100\n",
      "88/88 [==============================] - 13s 148ms/step - loss: 0.4527 - acc: 0.8350 - val_loss: 0.5632 - val_acc: 0.8286\n",
      "Epoch 41/100\n",
      "88/88 [==============================] - 13s 148ms/step - loss: 0.4444 - acc: 0.8422 - val_loss: 0.4851 - val_acc: 0.8500\n",
      "\n",
      "Epoch 00041: ReduceLROnPlateau reducing learning rate to 0.0001250000059371814.\n",
      "Epoch 42/100\n",
      "88/88 [==============================] - 13s 147ms/step - loss: 0.4443 - acc: 0.8373 - val_loss: 0.4931 - val_acc: 0.8179\n",
      "Epoch 43/100\n",
      "88/88 [==============================] - 13s 149ms/step - loss: 0.4222 - acc: 0.8507 - val_loss: 0.4326 - val_acc: 0.8393\n",
      "Epoch 44/100\n",
      "88/88 [==============================] - 13s 148ms/step - loss: 0.4165 - acc: 0.8440 - val_loss: 0.4204 - val_acc: 0.8393\n",
      "Epoch 45/100\n",
      "88/88 [==============================] - 13s 147ms/step - loss: 0.3856 - acc: 0.8640 - val_loss: 0.4328 - val_acc: 0.8607\n",
      "Epoch 46/100\n",
      "88/88 [==============================] - 13s 149ms/step - loss: 0.4071 - acc: 0.8480 - val_loss: 0.4440 - val_acc: 0.8500\n",
      "\n",
      "Epoch 00046: ReduceLROnPlateau reducing learning rate to 6.25000029685907e-05.\n",
      "Epoch 47/100\n",
      "88/88 [==============================] - 13s 146ms/step - loss: 0.3968 - acc: 0.8546 - val_loss: 0.4461 - val_acc: 0.8464\n",
      "Epoch 48/100\n",
      "88/88 [==============================] - 13s 152ms/step - loss: 0.3933 - acc: 0.8590 - val_loss: 0.4612 - val_acc: 0.8357\n",
      "Epoch 49/100\n",
      "88/88 [==============================] - 13s 149ms/step - loss: 0.3992 - acc: 0.8653 - val_loss: 0.4276 - val_acc: 0.8571\n",
      "Epoch 50/100\n",
      "88/88 [==============================] - 13s 147ms/step - loss: 0.3777 - acc: 0.8634 - val_loss: 0.4355 - val_acc: 0.8464\n",
      "Epoch 51/100\n",
      "88/88 [==============================] - 13s 148ms/step - loss: 0.3890 - acc: 0.8589 - val_loss: 0.4433 - val_acc: 0.8536\n",
      "\n",
      "Epoch 00051: ReduceLROnPlateau reducing learning rate to 3.125000148429535e-05.\n",
      "Epoch 52/100\n",
      "88/88 [==============================] - 13s 152ms/step - loss: 0.3811 - acc: 0.8686 - val_loss: 0.4294 - val_acc: 0.8536\n",
      "Epoch 53/100\n",
      "88/88 [==============================] - 13s 152ms/step - loss: 0.3629 - acc: 0.8738 - val_loss: 0.4090 - val_acc: 0.8571\n",
      "Epoch 54/100\n",
      "88/88 [==============================] - 13s 146ms/step - loss: 0.3653 - acc: 0.8753 - val_loss: 0.4380 - val_acc: 0.8607\n",
      "Epoch 55/100\n",
      "88/88 [==============================] - 13s 152ms/step - loss: 0.3795 - acc: 0.8644 - val_loss: 0.4337 - val_acc: 0.8464\n",
      "Epoch 56/100\n",
      "88/88 [==============================] - 13s 150ms/step - loss: 0.3593 - acc: 0.8750 - val_loss: 0.4233 - val_acc: 0.8500\n",
      "Epoch 57/100\n",
      "88/88 [==============================] - 13s 145ms/step - loss: 0.3551 - acc: 0.8726 - val_loss: 0.4300 - val_acc: 0.8536\n",
      "Epoch 58/100\n",
      "88/88 [==============================] - 13s 148ms/step - loss: 0.3578 - acc: 0.8663 - val_loss: 0.4004 - val_acc: 0.8429\n",
      "Epoch 59/100\n",
      "88/88 [==============================] - 13s 149ms/step - loss: 0.3859 - acc: 0.8679 - val_loss: 0.4713 - val_acc: 0.8429\n",
      "Epoch 60/100\n",
      "88/88 [==============================] - 13s 148ms/step - loss: 0.3413 - acc: 0.8780 - val_loss: 0.4355 - val_acc: 0.8321\n",
      "Epoch 61/100\n",
      "88/88 [==============================] - 13s 150ms/step - loss: 0.3660 - acc: 0.8650 - val_loss: 0.3975 - val_acc: 0.8679\n",
      "Epoch 62/100\n",
      "88/88 [==============================] - 13s 152ms/step - loss: 0.3526 - acc: 0.8677 - val_loss: 0.4647 - val_acc: 0.8393\n",
      "Epoch 63/100\n",
      "88/88 [==============================] - 13s 152ms/step - loss: 0.3487 - acc: 0.8725 - val_loss: 0.4503 - val_acc: 0.8464\n",
      "Epoch 64/100\n",
      "88/88 [==============================] - 13s 150ms/step - loss: 0.3277 - acc: 0.8833 - val_loss: 0.4573 - val_acc: 0.8536\n",
      "Epoch 65/100\n",
      "88/88 [==============================] - 13s 149ms/step - loss: 0.3598 - acc: 0.8704 - val_loss: 0.4546 - val_acc: 0.8393\n",
      "Epoch 66/100\n",
      "88/88 [==============================] - 13s 148ms/step - loss: 0.3527 - acc: 0.8790 - val_loss: 0.4281 - val_acc: 0.8536\n",
      "\n",
      "Epoch 00066: ReduceLROnPlateau reducing learning rate to 1.5625000742147677e-05.\n",
      "Epoch 67/100\n",
      "88/88 [==============================] - 13s 147ms/step - loss: 0.3511 - acc: 0.8749 - val_loss: 0.4155 - val_acc: 0.8357\n",
      "Epoch 68/100\n",
      "88/88 [==============================] - 13s 152ms/step - loss: 0.3585 - acc: 0.8710 - val_loss: 0.4453 - val_acc: 0.8571\n",
      "Epoch 69/100\n",
      "88/88 [==============================] - 13s 149ms/step - loss: 0.3453 - acc: 0.8749 - val_loss: 0.4583 - val_acc: 0.8429\n",
      "Epoch 70/100\n",
      "88/88 [==============================] - 13s 149ms/step - loss: 0.3451 - acc: 0.8756 - val_loss: 0.4145 - val_acc: 0.8571\n",
      "Epoch 71/100\n",
      "88/88 [==============================] - 13s 148ms/step - loss: 0.3338 - acc: 0.8840 - val_loss: 0.4708 - val_acc: 0.8571\n",
      "\n",
      "Epoch 00071: ReduceLROnPlateau reducing learning rate to 7.812500371073838e-06.\n",
      "Epoch 00071: early stopping\n"
     ]
    }
   ],
   "source": [
    "train_data_dir = 'train'\n",
    "img_width, img_height = 128, 128\n",
    "batch_size = 32\n",
    "epochs = 100\n",
    "\n",
    "model.compile(loss='categorical_crossentropy',\n",
    "              optimizer=Adam(lr=1e-3),\n",
    "              metrics=['accuracy'])\n",
    "\n",
    "\n",
    "#使用分批資料訓練模型\n",
    "\n",
    "\n",
    "trainimages = data_generator.flow_from_directory(train_data_dir,\n",
    "                                                    target_size=(img_width, img_height),\n",
    "                                                    batch_size=batch_size,\n",
    "                                                    color_mode='rgb',\n",
    "                                                    subset = 'training',\n",
    "                                                    class_mode='categorical',\n",
    "                                                    shuffle=True,\n",
    "                                                    seed=42)\n",
    "model.fit_generator(trainimages,\n",
    "                    steps_per_epoch=int(train_num /batch_size),\n",
    "                    epochs=epochs,\n",
    "                    verbose=1,\n",
    "                    validation_data=data_generator.flow_from_directory(train_data_dir,\n",
    "                                                                       target_size=(img_width, img_height),\n",
    "                                                                       batch_size=batch_size,\n",
    "                                                                       color_mode='rgb',\n",
    "                                                                       subset = 'validation',\n",
    "                                                                       class_mode='categorical',\n",
    "                                                                       shuffle=True,\n",
    "                                                                       seed=42),\n",
    "                    callbacks=[earlystop,reduce_lr])\n",
    "\n",
    "\n",
    "model.save('my_model.h5')"
   ]
  },
  {
   "cell_type": "markdown",
   "metadata": {},
   "source": [
    "# 將訓練好的模型拿來預測Test"
   ]
  },
  {
   "cell_type": "code",
   "execution_count": 13,
   "metadata": {},
   "outputs": [
    {
     "name": "stdout",
     "output_type": "stream",
     "text": [
      "Found 2000 images belonging to 1 classes.\n",
      "2000/2000 [==============================] - 15s 8ms/step\n"
     ]
    }
   ],
   "source": [
    "\n",
    "model = keras.models.load_model('final_model.h5')\n",
    "test_data_dir = 'test'\n",
    "test_generator = ImageDataGenerator()\n",
    "testimages = test_generator.flow_from_directory(test_data_dir,\n",
    "                                                target_size=(img_width, img_height),\n",
    "                                                color_mode=\"rgb\",\n",
    "                                                batch_size=1,\n",
    "                                                class_mode=None,\n",
    "                                                shuffle=False,\n",
    "                                                seed=42)\n",
    "testimages.reset()\n",
    "pred=model.predict_generator(testimages,verbose=1)"
   ]
  },
  {
   "cell_type": "markdown",
   "metadata": {},
   "source": [
    "# 產生要上傳的答案卷"
   ]
  },
  {
   "cell_type": "code",
   "execution_count": null,
   "metadata": {},
   "outputs": [],
   "source": [
    "import os\n",
    "import pandas as pd\n",
    "results = np.argmax(pred , axis = 1)\n",
    "testfiles = []\n",
    "testpredict = []\n",
    "i = 0\n",
    "for filename in os.listdir(test_data_dir+'/test'):\n",
    "    testfiles.append(filename.rsplit('.', 1)[0])\n",
    "    testpredict.append(results[i])\n",
    "    i += 1\n",
    "\n",
    "\n",
    "    \n",
    "\n",
    "submission = pd.DataFrame({\n",
    "        \"id\" : testfiles,\n",
    "        \"flower_class\" : testpredict\n",
    "    })\n",
    "\n",
    "submission.to_csv('final_exam.csv' , index = False)"
   ]
  },
  {
   "cell_type": "markdown",
   "metadata": {},
   "source": [
    "# 最佳成績及排名"
   ]
  },
  {
   "cell_type": "code",
   "execution_count": 11,
   "metadata": {},
   "outputs": [
    {
     "data": {
      "image/png": "[encoded data removed]",
      "text/plain": [
       "<Figure size 1728x1728 with 1 Axes>"
      ]
     },
     "metadata": {
      "needs_background": "light"
     },
     "output_type": "display_data"
    }
   ],
   "source": [
    "import matplotlib.pyplot as plt\n",
    "import matplotlib.image as mpimg\n",
    "plt.figure(figsize=(24,24)) \n",
    "gb = mpimg.imread('score.png')\n",
    "plt.imshow(gb)\n",
    "plt.axis('off') # 不顯示座標軸\n",
    "plt.show()"
   ]
  },
  {
   "cell_type": "code",
   "execution_count": 12,
   "metadata": {},
   "outputs": [
    {
     "data": {
      "image/png": "[encoded data removed]",
      "text/plain": [
       "<Figure size 1728x1728 with 1 Axes>"
      ]
     },
     "metadata": {
      "needs_background": "light"
     },
     "output_type": "display_data"
    }
   ],
   "source": [
    "plt.figure(figsize=(24,24)) \n",
    "gb = mpimg.imread('rank.png')\n",
    "plt.imshow(gb)\n",
    "plt.axis('off') # 不顯示座標軸\n",
    "plt.show()"
   ]
  },
  {
   "cell_type": "code",
   "execution_count": null,
   "metadata": {},
   "outputs": [],
   "source": []
  }
 ],
 "metadata": {
  "kernelspec": {
   "display_name": "Python 3",
   "language": "python",
   "name": "python3"
  },
  "language_info": {
   "codemirror_mode": {
    "name": "ipython",
    "version": 3
   },
   "file_extension": ".py",
   "mimetype": "text/x-python",
   "name": "python",
   "nbconvert_exporter": "python",
   "pygments_lexer": "ipython3",
   "version": "3.6.7"
  }
 },
 "nbformat": 4,
 "nbformat_minor": 2
}
