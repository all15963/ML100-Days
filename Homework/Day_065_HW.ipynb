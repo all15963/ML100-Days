{
 "cells": [
  {
   "cell_type": "markdown",
   "metadata": {},
   "source": [
    "# 作業:\n",
    "嘗試調整參數:  \n",
    "sg:sg=1表示採用skip-gram,sg=0 表示採用cbow  \n",
    "window:能往左往右看幾個字的意思 "
   ]
  },
  {
   "cell_type": "code",
   "execution_count": 2,
   "metadata": {},
   "outputs": [
    {
     "name": "stdout",
     "output_type": "stream",
     "text": [
      "Collecting gensim\n",
      "  Downloading https://files.pythonhosted.org/packages/08/c9/58bbe33a6a440f7ba58b90d5682525ee8d446d288018bbfca0ac2b69f9b0/gensim-3.7.1-cp37-cp37m-win_amd64.whl (24.1MB)\n",
      "Collecting smart-open>=1.7.0 (from gensim)\n",
      "  Downloading https://files.pythonhosted.org/packages/ff/c8/de7dcf34d4b5f2ae94fe1055e0d6418fb97a63c9dc3428edd264704983a2/smart_open-1.8.0.tar.gz (40kB)\n",
      "Requirement already satisfied: scipy>=0.18.1 in c:\\users\\user\\anaconda3\\lib\\site-packages (from gensim) (1.1.0)\n",
      "Requirement already satisfied: six>=1.5.0 in c:\\users\\user\\anaconda3\\lib\\site-packages (from gensim) (1.11.0)\n",
      "Requirement already satisfied: numpy>=1.11.3 in c:\\users\\user\\anaconda3\\lib\\site-packages (from gensim) (1.15.1)\n",
      "Requirement already satisfied: boto>=2.32 in c:\\users\\user\\anaconda3\\lib\\site-packages (from smart-open>=1.7.0->gensim) (2.49.0)\n",
      "Collecting bz2file (from smart-open>=1.7.0->gensim)\n",
      "  Downloading https://files.pythonhosted.org/packages/61/39/122222b5e85cd41c391b68a99ee296584b2a2d1d233e7ee32b4532384f2d/bz2file-0.98.tar.gz\n",
      "Requirement already satisfied: requests in c:\\users\\user\\anaconda3\\lib\\site-packages (from smart-open>=1.7.0->gensim) (2.19.1)\n",
      "Collecting boto3 (from smart-open>=1.7.0->gensim)\n",
      "  Downloading https://files.pythonhosted.org/packages/cc/bc/7ea267ec47027d63a76d447591e3b10f62d2a799bf418145dd61f5dbc70f/boto3-1.9.112-py2.py3-none-any.whl (128kB)\n",
      "Requirement already satisfied: certifi>=2017.4.17 in c:\\users\\user\\anaconda3\\lib\\site-packages (from requests->smart-open>=1.7.0->gensim) (2018.8.24)\n",
      "Requirement already satisfied: chardet<3.1.0,>=3.0.2 in c:\\users\\user\\anaconda3\\lib\\site-packages (from requests->smart-open>=1.7.0->gensim) (3.0.4)\n",
      "Requirement already satisfied: idna<2.8,>=2.5 in c:\\users\\user\\anaconda3\\lib\\site-packages (from requests->smart-open>=1.7.0->gensim) (2.7)\n",
      "Requirement already satisfied: urllib3<1.24,>=1.21.1 in c:\\users\\user\\anaconda3\\lib\\site-packages (from requests->smart-open>=1.7.0->gensim) (1.23)\n",
      "Collecting botocore<1.13.0,>=1.12.112 (from boto3->smart-open>=1.7.0->gensim)\n",
      "  Downloading https://files.pythonhosted.org/packages/0d/6b/d6ffec0ec8c100ae89324a764ea35c34c1a1ea099f97c6868f70d3597707/botocore-1.12.112-py2.py3-none-any.whl (5.3MB)\n",
      "Collecting s3transfer<0.3.0,>=0.2.0 (from boto3->smart-open>=1.7.0->gensim)\n",
      "  Downloading https://files.pythonhosted.org/packages/d7/de/5737f602e22073ecbded7a0c590707085e154e32b68d86545dcc31004c02/s3transfer-0.2.0-py2.py3-none-any.whl (69kB)\n",
      "Collecting jmespath<1.0.0,>=0.7.1 (from boto3->smart-open>=1.7.0->gensim)\n",
      "  Downloading https://files.pythonhosted.org/packages/83/94/7179c3832a6d45b266ddb2aac329e101367fbdb11f425f13771d27f225bb/jmespath-0.9.4-py2.py3-none-any.whl\n",
      "Requirement already satisfied: python-dateutil<3.0.0,>=2.1; python_version >= \"2.7\" in c:\\users\\user\\anaconda3\\lib\\site-packages (from botocore<1.13.0,>=1.12.112->boto3->smart-open>=1.7.0->gensim) (2.7.3)\n",
      "Requirement already satisfied: docutils>=0.10 in c:\\users\\user\\anaconda3\\lib\\site-packages (from botocore<1.13.0,>=1.12.112->boto3->smart-open>=1.7.0->gensim) (0.14)\n",
      "Building wheels for collected packages: smart-open, bz2file\n",
      "  Running setup.py bdist_wheel for smart-open: started\n",
      "  Running setup.py bdist_wheel for smart-open: finished with status 'done'\n",
      "  Stored in directory: C:\\Users\\USER\\AppData\\Local\\pip\\Cache\\wheels\\f7\\a6\\ff\\9ab5842c14e50e95a06a4675b0b4a689c9cab6064dac2b01d0\n",
      "  Running setup.py bdist_wheel for bz2file: started\n",
      "  Running setup.py bdist_wheel for bz2file: finished with status 'done'\n",
      "  Stored in directory: C:\\Users\\USER\\AppData\\Local\\pip\\Cache\\wheels\\81\\75\\d6\\e1317bf09bf1af5a30befc2a007869fa6e1f516b8f7c591cb9\n",
      "Successfully built smart-open bz2file\n",
      "Installing collected packages: bz2file, jmespath, botocore, s3transfer, boto3, smart-open, gensim\n",
      "Successfully installed boto3-1.9.112 botocore-1.12.112 bz2file-0.98 gensim-3.7.1 jmespath-0.9.4 s3transfer-0.2.0 smart-open-1.8.0\n"
     ]
    },
    {
     "name": "stderr",
     "output_type": "stream",
     "text": [
      "twisted 18.7.0 requires PyHamcrest>=1.9.0, which is not installed.\n",
      "You are using pip version 10.0.1, however version 19.0.3 is available.\n",
      "You should consider upgrading via the 'python -m pip install --upgrade pip' command.\n"
     ]
    }
   ],
   "source": [
    "!pip install gensim"
   ]
  },
  {
   "cell_type": "code",
   "execution_count": 3,
   "metadata": {},
   "outputs": [],
   "source": [
    "import gensim, logging\n",
    "from gensim.models import word2vec"
   ]
  },
  {
   "cell_type": "code",
   "execution_count": 17,
   "metadata": {},
   "outputs": [
    {
     "name": "stderr",
     "output_type": "stream",
     "text": [
      "2019-03-12 15:32:13,694 : INFO : collecting all words and their counts\n",
      "2019-03-12 15:32:13,694 : INFO : PROGRESS: at sentence #0, processed 0 words, keeping 0 word types\n",
      "2019-03-12 15:32:13,694 : INFO : collected 3 word types from a corpus of 4 raw words and 2 sentences\n",
      "2019-03-12 15:32:13,694 : INFO : Loading a fresh vocabulary\n",
      "2019-03-12 15:32:13,694 : INFO : effective_min_count=1 retains 3 unique words (100% of original 3, drops 0)\n",
      "2019-03-12 15:32:13,711 : INFO : effective_min_count=1 leaves 4 word corpus (100% of original 4, drops 0)\n",
      "2019-03-12 15:32:13,713 : INFO : deleting the raw counts dictionary of 3 items\n",
      "2019-03-12 15:32:13,715 : INFO : sample=0.001 downsamples 3 most-common words\n",
      "2019-03-12 15:32:13,716 : INFO : downsampling leaves estimated 0 word corpus (5.7% of prior 4)\n",
      "2019-03-12 15:32:13,717 : INFO : estimated required memory for 3 words and 256 dimensions: 7644 bytes\n",
      "2019-03-12 15:32:13,717 : INFO : resetting layer weights\n",
      "2019-03-12 15:32:13,718 : INFO : training model with 4 workers on 3 vocabulary and 256 features, using sg=1 hs=0 sample=0.001 negative=5 window=10\n",
      "2019-03-12 15:32:13,763 : INFO : worker thread finished; awaiting finish of 3 more threads\n",
      "2019-03-12 15:32:13,765 : INFO : worker thread finished; awaiting finish of 2 more threads\n",
      "2019-03-12 15:32:13,767 : INFO : worker thread finished; awaiting finish of 1 more threads\n",
      "2019-03-12 15:32:13,769 : INFO : worker thread finished; awaiting finish of 0 more threads\n",
      "2019-03-12 15:32:13,770 : INFO : EPOCH - 1 : training on 4 raw words (0 effective words) took 0.0s, 0 effective words/s\n",
      "2019-03-12 15:32:13,779 : INFO : worker thread finished; awaiting finish of 3 more threads\n",
      "2019-03-12 15:32:13,782 : INFO : worker thread finished; awaiting finish of 2 more threads\n",
      "2019-03-12 15:32:13,784 : INFO : worker thread finished; awaiting finish of 1 more threads\n",
      "2019-03-12 15:32:13,786 : INFO : worker thread finished; awaiting finish of 0 more threads\n",
      "2019-03-12 15:32:13,788 : INFO : EPOCH - 2 : training on 4 raw words (0 effective words) took 0.0s, 0 effective words/s\n",
      "2019-03-12 15:32:13,799 : INFO : worker thread finished; awaiting finish of 3 more threads\n",
      "2019-03-12 15:32:13,801 : INFO : worker thread finished; awaiting finish of 2 more threads\n",
      "2019-03-12 15:32:13,804 : INFO : worker thread finished; awaiting finish of 1 more threads\n",
      "2019-03-12 15:32:13,807 : INFO : worker thread finished; awaiting finish of 0 more threads\n",
      "2019-03-12 15:32:13,808 : INFO : EPOCH - 3 : training on 4 raw words (1 effective words) took 0.0s, 103 effective words/s\n",
      "2019-03-12 15:32:13,827 : INFO : worker thread finished; awaiting finish of 3 more threads\n",
      "2019-03-12 15:32:13,832 : INFO : worker thread finished; awaiting finish of 2 more threads\n",
      "2019-03-12 15:32:13,834 : INFO : worker thread finished; awaiting finish of 1 more threads\n",
      "2019-03-12 15:32:13,836 : INFO : worker thread finished; awaiting finish of 0 more threads\n",
      "2019-03-12 15:32:13,838 : INFO : EPOCH - 4 : training on 4 raw words (1 effective words) took 0.0s, 86 effective words/s\n",
      "2019-03-12 15:32:13,845 : INFO : worker thread finished; awaiting finish of 3 more threads\n",
      "2019-03-12 15:32:13,847 : INFO : worker thread finished; awaiting finish of 2 more threads\n",
      "2019-03-12 15:32:13,850 : INFO : worker thread finished; awaiting finish of 1 more threads\n",
      "2019-03-12 15:32:13,852 : INFO : worker thread finished; awaiting finish of 0 more threads\n",
      "2019-03-12 15:32:13,854 : INFO : EPOCH - 5 : training on 4 raw words (0 effective words) took 0.0s, 0 effective words/s\n",
      "2019-03-12 15:32:13,856 : INFO : training on a 20 raw words (2 effective words) took 0.1s, 15 effective words/s\n",
      "2019-03-12 15:32:13,864 : WARNING : under 10 jobs per worker: consider setting a smaller `batch_words' for smoother alpha decay\n"
     ]
    }
   ],
   "source": [
    "logging.basicConfig(format='%(asctime)s : %(levelname)s : %(message)s', level=logging.INFO)\n",
    "\n",
    "sentences = [['I am a hero', 'sentence'], ['She is a teacher', 'sentence']] \n",
    "\n",
    "# train word2vec on the two sentences  \n",
    "model = word2vec.Word2Vec(sentences, size=256, min_count=1, window=10, workers=4, sg=1)\n",
    "# sg=0 表示COBW, sg=1 表示skip-gram\n"
   ]
  },
  {
   "cell_type": "code",
   "execution_count": 19,
   "metadata": {},
   "outputs": [
    {
     "name": "stdout",
     "output_type": "stream",
     "text": [
      "Word2Vec(vocab=3, size=256, alpha=0.025)\n"
     ]
    }
   ],
   "source": [
    "print(model)"
   ]
  },
  {
   "cell_type": "code",
   "execution_count": 18,
   "metadata": {},
   "outputs": [
    {
     "name": "stderr",
     "output_type": "stream",
     "text": [
      "C:\\Users\\USER\\Anaconda3\\lib\\site-packages\\ipykernel_launcher.py:1: DeprecationWarning: Call to deprecated `similarity` (Method will be removed in 4.0.0, use self.wv.similarity() instead).\n",
      "  \"\"\"Entry point for launching an IPython kernel.\n"
     ]
    },
    {
     "data": {
      "text/plain": [
       "0.030041138"
      ]
     },
     "execution_count": 18,
     "metadata": {},
     "output_type": "execute_result"
    }
   ],
   "source": [
    "model.similarity('I am a hero','She is a teacher')"
   ]
  },
  {
   "cell_type": "code",
   "execution_count": 20,
   "metadata": {},
   "outputs": [
    {
     "name": "stderr",
     "output_type": "stream",
     "text": [
      "2019-03-12 15:34:59,382 : INFO : saving Word2Vec object under mymodel, separately None\n",
      "2019-03-12 15:34:59,399 : INFO : not storing attribute vectors_norm\n",
      "2019-03-12 15:34:59,403 : INFO : not storing attribute cum_table\n",
      "2019-03-12 15:34:59,413 : INFO : saved mymodel\n",
      "2019-03-12 15:34:59,415 : INFO : loading Word2Vec object from mymodel\n",
      "2019-03-12 15:34:59,417 : INFO : loading wv recursively from mymodel.wv.* with mmap=None\n",
      "2019-03-12 15:34:59,418 : INFO : setting ignored attribute vectors_norm to None\n",
      "2019-03-12 15:34:59,419 : INFO : loading vocabulary recursively from mymodel.vocabulary.* with mmap=None\n",
      "2019-03-12 15:34:59,421 : INFO : loading trainables recursively from mymodel.trainables.* with mmap=None\n",
      "2019-03-12 15:34:59,423 : INFO : setting ignored attribute cum_table to None\n",
      "2019-03-12 15:34:59,425 : INFO : loaded mymodel\n"
     ]
    }
   ],
   "source": [
    "model.save('mymodel')  \n",
    "new_model = gensim.models.Word2Vec.load('mymodel')  "
   ]
  },
  {
   "cell_type": "code",
   "execution_count": null,
   "metadata": {},
   "outputs": [],
   "source": []
  }
 ],
 "metadata": {
  "kernelspec": {
   "display_name": "Python 3",
   "language": "python",
   "name": "python3"
  },
  "language_info": {
   "codemirror_mode": {
    "name": "ipython",
    "version": 3
   },
   "file_extension": ".py",
   "mimetype": "text/x-python",
   "name": "python",
   "nbconvert_exporter": "python",
   "pygments_lexer": "ipython3",
   "version": "3.7.0"
  }
 },
 "nbformat": 4,
 "nbformat_minor": 2
}
