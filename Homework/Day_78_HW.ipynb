{
 "cells": [
  {
   "cell_type": "markdown",
   "metadata": {},
   "source": [
    "## Work\n",
    "1. 請嘗試將 preproc_x 替換成以每筆資料的 min/max 進行標準化至 -1 ~ 1 間，再進行訓練\n",
    "2. 請嘗試將 mlp 疊更深 (e.g 5~10 層)，進行訓練後觀察 learning curve 的走勢\n",
    "3. (optional) 請改用 GPU 進行訓練 (如果你有 GPU 的話)，比較使用 CPU 與 GPU 的訓練速度"
   ]
  },
  {
   "cell_type": "code",
   "execution_count": 1,
   "metadata": {},
   "outputs": [],
   "source": [
    "## 確認硬體資源\n",
    "\"\"\"\n",
    "Your code here\n",
    "\"\"\"\n"
   ]
  },
  {
   "cell_type": "code",
   "execution_count": 1,
   "metadata": {},
   "outputs": [
    {
     "name": "stderr",
     "output_type": "stream",
     "text": [
      "Using TensorFlow backend.\n"
     ]
    }
   ],
   "source": [
    "import os\n",
    "import keras\n",
    "\n",
    "# Try to enable GPU (optional)\n"
   ]
  },
  {
   "cell_type": "code",
   "execution_count": 2,
   "metadata": {},
   "outputs": [],
   "source": [
    "train, test = keras.datasets.cifar10.load_data()"
   ]
  },
  {
   "cell_type": "code",
   "execution_count": 3,
   "metadata": {},
   "outputs": [],
   "source": [
    "## 資料前處理\n",
    "\"\"\"\n",
    "Your code here\n",
    "\"\"\"\n",
    "def preproc_x(x, flatten=True):\n",
    "    x = (x - x.min(axis = 0)) / (x.max(axis = 0) - x.min(axis = 0)) * 2 - 1\n",
    "       \n",
    "    if flatten:\n",
    "        x = x.reshape(len(x), -1)\n",
    "    return x\n",
    "\n",
    "def preproc_y(y, num_classes=10):\n",
    "    if y.shape[-1] == 1:\n",
    "        y = keras.utils.to_categorical(y, num_classes)\n",
    "    return y    "
   ]
  },
  {
   "cell_type": "code",
   "execution_count": 4,
   "metadata": {},
   "outputs": [],
   "source": [
    "x_train, y_train = train\n",
    "x_test, y_test = test\n",
    "\n",
    "# Preproc the inputs\n",
    "x_train = preproc_x(x_train)\n",
    "x_test = preproc_x(x_test)\n",
    "\n",
    "# Preprc the outputs\n",
    "y_train = preproc_y(y_train)\n",
    "y_test = preproc_y(y_test)"
   ]
  },
  {
   "cell_type": "code",
   "execution_count": 10,
   "metadata": {},
   "outputs": [],
   "source": [
    "\"\"\"\n",
    "Your code here\n",
    "\"\"\"\n",
    "def build_mlp(input_shape, output_units=10, num_neurons=[512, 256, 128, 64, 32]):\n",
    "    input_layer = keras.layers.Input(input_shape)\n",
    "    \n",
    "    for i, n_units in enumerate(num_neurons):\n",
    "        if i == 0:\n",
    "            x = keras.layers.Dense(units=n_units, activation=\"relu\", name=\"hidden_layer\"+str(i+1))(input_layer)\n",
    "        else:\n",
    "            x = keras.layers.Dense(units=n_units, activation=\"relu\", name=\"hidden_layer\"+str(i+1))(x)\n",
    "    \n",
    "    out = keras.layers.Dense(units=output_units, activation=\"softmax\", name=\"output\")(x)\n",
    "    \n",
    "    model = keras.models.Model(inputs=[input_layer], outputs=[out])\n",
    "    return model"
   ]
  },
  {
   "cell_type": "code",
   "execution_count": 11,
   "metadata": {},
   "outputs": [
    {
     "name": "stdout",
     "output_type": "stream",
     "text": [
      "_________________________________________________________________\n",
      "Layer (type)                 Output Shape              Param #   \n",
      "=================================================================\n",
      "input_1 (InputLayer)         (None, 3072)              0         \n",
      "_________________________________________________________________\n",
      "hidden_layer1 (Dense)        (None, 512)               1573376   \n",
      "_________________________________________________________________\n",
      "hidden_layer2 (Dense)        (None, 256)               131328    \n",
      "_________________________________________________________________\n",
      "hidden_layer3 (Dense)        (None, 128)               32896     \n",
      "_________________________________________________________________\n",
      "hidden_layer4 (Dense)        (None, 64)                8256      \n",
      "_________________________________________________________________\n",
      "hidden_layer5 (Dense)        (None, 32)                2080      \n",
      "_________________________________________________________________\n",
      "output (Dense)               (None, 10)                330       \n",
      "=================================================================\n",
      "Total params: 1,748,266\n",
      "Trainable params: 1,748,266\n",
      "Non-trainable params: 0\n",
      "_________________________________________________________________\n"
     ]
    }
   ],
   "source": [
    "model = build_mlp(input_shape=x_train.shape[1:])\n",
    "model.summary()"
   ]
  },
  {
   "cell_type": "code",
   "execution_count": 12,
   "metadata": {},
   "outputs": [],
   "source": [
    "## 超參數設定\n",
    "LEARNING_RATE = 0.001\n",
    "EPOCHS = 100\n",
    "BATCH_SIZE = 256"
   ]
  },
  {
   "cell_type": "code",
   "execution_count": 13,
   "metadata": {},
   "outputs": [],
   "source": [
    "optimizer = keras.optimizers.Adam(lr=LEARNING_RATE)\n",
    "model.compile(loss=\"categorical_crossentropy\", metrics=[\"accuracy\"], optimizer=optimizer)"
   ]
  },
  {
   "cell_type": "code",
   "execution_count": 14,
   "metadata": {},
   "outputs": [
    {
     "name": "stdout",
     "output_type": "stream",
     "text": [
      "Train on 50000 samples, validate on 10000 samples\n",
      "Epoch 1/100\n",
      "50000/50000 [==============================] - 18s 369us/step - loss: 1.7340 - acc: 0.3825 - val_loss: 1.5564 - val_acc: 0.4529\n",
      "Epoch 2/100\n",
      "50000/50000 [==============================] - 17s 333us/step - loss: 1.4950 - acc: 0.4739 - val_loss: 1.4724 - val_acc: 0.4783\n",
      "Epoch 3/100\n",
      "50000/50000 [==============================] - 16s 322us/step - loss: 1.3755 - acc: 0.5160 - val_loss: 1.4301 - val_acc: 0.4952\n",
      "Epoch 4/100\n",
      "50000/50000 [==============================] - 16s 320us/step - loss: 1.2822 - acc: 0.5471 - val_loss: 1.3856 - val_acc: 0.5097\n",
      "Epoch 5/100\n",
      "50000/50000 [==============================] - 16s 323us/step - loss: 1.1941 - acc: 0.5805 - val_loss: 1.3504 - val_acc: 0.5253\n",
      "Epoch 6/100\n",
      "50000/50000 [==============================] - 16s 325us/step - loss: 1.1162 - acc: 0.6060 - val_loss: 1.3807 - val_acc: 0.5233\n",
      "Epoch 7/100\n",
      "50000/50000 [==============================] - 16s 324us/step - loss: 1.0392 - acc: 0.6340 - val_loss: 1.3901 - val_acc: 0.5298\n",
      "Epoch 8/100\n",
      "50000/50000 [==============================] - 17s 332us/step - loss: 0.9659 - acc: 0.6600 - val_loss: 1.3756 - val_acc: 0.5325\n",
      "Epoch 9/100\n",
      "50000/50000 [==============================] - 17s 337us/step - loss: 0.9018 - acc: 0.6800 - val_loss: 1.3942 - val_acc: 0.5366\n",
      "Epoch 10/100\n",
      "50000/50000 [==============================] - 16s 330us/step - loss: 0.8307 - acc: 0.7060 - val_loss: 1.4495 - val_acc: 0.5394\n",
      "Epoch 11/100\n",
      "50000/50000 [==============================] - 16s 322us/step - loss: 0.7674 - acc: 0.7288 - val_loss: 1.4776 - val_acc: 0.5391\n",
      "Epoch 12/100\n",
      "50000/50000 [==============================] - 16s 320us/step - loss: 0.7063 - acc: 0.7502 - val_loss: 1.5470 - val_acc: 0.5373\n",
      "Epoch 13/100\n",
      "50000/50000 [==============================] - 16s 325us/step - loss: 0.6425 - acc: 0.7745 - val_loss: 1.6150 - val_acc: 0.5383\n",
      "Epoch 14/100\n",
      "50000/50000 [==============================] - 16s 322us/step - loss: 0.5862 - acc: 0.7927 - val_loss: 1.6604 - val_acc: 0.5377\n",
      "Epoch 15/100\n",
      "50000/50000 [==============================] - 16s 322us/step - loss: 0.5389 - acc: 0.8097 - val_loss: 1.7742 - val_acc: 0.5376\n",
      "Epoch 16/100\n",
      "50000/50000 [==============================] - 16s 324us/step - loss: 0.5019 - acc: 0.8241 - val_loss: 1.7978 - val_acc: 0.5362\n",
      "Epoch 17/100\n",
      "50000/50000 [==============================] - 16s 322us/step - loss: 0.4573 - acc: 0.8379 - val_loss: 1.9542 - val_acc: 0.5367\n",
      "Epoch 18/100\n",
      "50000/50000 [==============================] - 16s 319us/step - loss: 0.4107 - acc: 0.8554 - val_loss: 2.0007 - val_acc: 0.5301\n",
      "Epoch 19/100\n",
      "50000/50000 [==============================] - 16s 322us/step - loss: 0.3759 - acc: 0.8673 - val_loss: 2.1485 - val_acc: 0.5267\n",
      "Epoch 20/100\n",
      "50000/50000 [==============================] - 16s 325us/step - loss: 0.3492 - acc: 0.8787 - val_loss: 2.1813 - val_acc: 0.5325\n",
      "Epoch 21/100\n",
      "50000/50000 [==============================] - 16s 321us/step - loss: 0.3322 - acc: 0.8842 - val_loss: 2.2401 - val_acc: 0.5300\n",
      "Epoch 22/100\n",
      "50000/50000 [==============================] - 16s 320us/step - loss: 0.3052 - acc: 0.8938 - val_loss: 2.3293 - val_acc: 0.5310\n",
      "Epoch 23/100\n",
      "50000/50000 [==============================] - 16s 321us/step - loss: 0.2824 - acc: 0.9017 - val_loss: 2.3794 - val_acc: 0.5298\n",
      "Epoch 24/100\n",
      "50000/50000 [==============================] - 16s 320us/step - loss: 0.2768 - acc: 0.9024 - val_loss: 2.4479 - val_acc: 0.5418\n",
      "Epoch 25/100\n",
      "50000/50000 [==============================] - 16s 321us/step - loss: 0.2401 - acc: 0.9166 - val_loss: 2.5358 - val_acc: 0.5343\n",
      "Epoch 26/100\n",
      "50000/50000 [==============================] - 16s 320us/step - loss: 0.2398 - acc: 0.9162 - val_loss: 2.6267 - val_acc: 0.5250\n",
      "Epoch 27/100\n",
      "50000/50000 [==============================] - 16s 320us/step - loss: 0.2329 - acc: 0.9186 - val_loss: 2.7095 - val_acc: 0.5345\n",
      "Epoch 28/100\n",
      "50000/50000 [==============================] - 16s 325us/step - loss: 0.2048 - acc: 0.9280 - val_loss: 2.7829 - val_acc: 0.5235\n",
      "Epoch 29/100\n",
      "50000/50000 [==============================] - 16s 321us/step - loss: 0.2023 - acc: 0.9293 - val_loss: 2.7897 - val_acc: 0.5369\n",
      "Epoch 30/100\n",
      "50000/50000 [==============================] - 16s 320us/step - loss: 0.1906 - acc: 0.9335 - val_loss: 2.9955 - val_acc: 0.5347\n",
      "Epoch 31/100\n",
      "50000/50000 [==============================] - 16s 319us/step - loss: 0.1974 - acc: 0.9321 - val_loss: 2.8748 - val_acc: 0.5373\n",
      "Epoch 32/100\n",
      "50000/50000 [==============================] - 16s 319us/step - loss: 0.1854 - acc: 0.9359 - val_loss: 2.9788 - val_acc: 0.5262\n",
      "Epoch 33/100\n",
      "50000/50000 [==============================] - 16s 319us/step - loss: 0.1750 - acc: 0.9405 - val_loss: 2.9121 - val_acc: 0.5319\n",
      "Epoch 34/100\n",
      "50000/50000 [==============================] - 16s 319us/step - loss: 0.1798 - acc: 0.9384 - val_loss: 3.0648 - val_acc: 0.5178\n",
      "Epoch 35/100\n",
      "50000/50000 [==============================] - 16s 322us/step - loss: 0.1635 - acc: 0.9442 - val_loss: 3.1976 - val_acc: 0.5190\n",
      "Epoch 36/100\n",
      "50000/50000 [==============================] - 16s 319us/step - loss: 0.1431 - acc: 0.9512 - val_loss: 3.0604 - val_acc: 0.5303\n",
      "Epoch 37/100\n",
      "50000/50000 [==============================] - 16s 319us/step - loss: 0.1507 - acc: 0.9475 - val_loss: 3.2176 - val_acc: 0.5235\n",
      "Epoch 38/100\n",
      "50000/50000 [==============================] - 16s 320us/step - loss: 0.1587 - acc: 0.9472 - val_loss: 3.1357 - val_acc: 0.5297\n",
      "Epoch 39/100\n",
      "50000/50000 [==============================] - 16s 319us/step - loss: 0.1544 - acc: 0.9481 - val_loss: 3.1660 - val_acc: 0.5303\n",
      "Epoch 40/100\n",
      "50000/50000 [==============================] - 16s 319us/step - loss: 0.1456 - acc: 0.9500 - val_loss: 3.2256 - val_acc: 0.5269\n",
      "Epoch 41/100\n",
      "50000/50000 [==============================] - 16s 319us/step - loss: 0.1386 - acc: 0.9526 - val_loss: 3.3156 - val_acc: 0.5321\n",
      "Epoch 42/100\n",
      "50000/50000 [==============================] - 16s 319us/step - loss: 0.1286 - acc: 0.9565 - val_loss: 3.3114 - val_acc: 0.5239\n",
      "Epoch 43/100\n",
      "50000/50000 [==============================] - 17s 331us/step - loss: 0.1300 - acc: 0.9567 - val_loss: 3.4008 - val_acc: 0.5264\n",
      "Epoch 44/100\n",
      "50000/50000 [==============================] - 16s 320us/step - loss: 0.1395 - acc: 0.9531 - val_loss: 3.3503 - val_acc: 0.5308\n",
      "Epoch 45/100\n",
      "50000/50000 [==============================] - 16s 330us/step - loss: 0.1136 - acc: 0.9610 - val_loss: 3.5306 - val_acc: 0.5263\n",
      "Epoch 46/100\n",
      "50000/50000 [==============================] - 16s 323us/step - loss: 0.1203 - acc: 0.9593 - val_loss: 3.4442 - val_acc: 0.5306\n",
      "Epoch 47/100\n",
      "50000/50000 [==============================] - 17s 332us/step - loss: 0.1385 - acc: 0.9536 - val_loss: 3.3422 - val_acc: 0.5294\n",
      "Epoch 48/100\n",
      "50000/50000 [==============================] - 17s 331us/step - loss: 0.1075 - acc: 0.9648 - val_loss: 3.5590 - val_acc: 0.5278\n",
      "Epoch 49/100\n",
      "50000/50000 [==============================] - 16s 321us/step - loss: 0.1332 - acc: 0.9564 - val_loss: 3.4557 - val_acc: 0.5300\n",
      "Epoch 50/100\n",
      "50000/50000 [==============================] - 16s 324us/step - loss: 0.1006 - acc: 0.9661 - val_loss: 3.5117 - val_acc: 0.5306\n",
      "Epoch 51/100\n",
      "50000/50000 [==============================] - 16s 320us/step - loss: 0.0965 - acc: 0.9672 - val_loss: 3.5724 - val_acc: 0.5336\n",
      "Epoch 52/100\n",
      "50000/50000 [==============================] - 16s 320us/step - loss: 0.1140 - acc: 0.9630 - val_loss: 3.5323 - val_acc: 0.5332\n",
      "Epoch 53/100\n",
      "50000/50000 [==============================] - 16s 319us/step - loss: 0.1123 - acc: 0.9617 - val_loss: 3.5150 - val_acc: 0.5301\n",
      "Epoch 54/100\n",
      "50000/50000 [==============================] - 16s 322us/step - loss: 0.0969 - acc: 0.9685 - val_loss: 3.6850 - val_acc: 0.5265\n",
      "Epoch 55/100\n",
      "50000/50000 [==============================] - 16s 318us/step - loss: 0.1206 - acc: 0.9611 - val_loss: 3.5029 - val_acc: 0.5340\n",
      "Epoch 56/100\n",
      "50000/50000 [==============================] - 18s 364us/step - loss: 0.1211 - acc: 0.9600 - val_loss: 3.5232 - val_acc: 0.5303\n",
      "Epoch 57/100\n",
      "50000/50000 [==============================] - 16s 321us/step - loss: 0.1011 - acc: 0.9659 - val_loss: 3.6266 - val_acc: 0.5282\n",
      "Epoch 58/100\n",
      "50000/50000 [==============================] - 16s 321us/step - loss: 0.1007 - acc: 0.9672 - val_loss: 3.6318 - val_acc: 0.5244\n"
     ]
    },
    {
     "name": "stdout",
     "output_type": "stream",
     "text": [
      "Epoch 59/100\n",
      "50000/50000 [==============================] - 16s 320us/step - loss: 0.0828 - acc: 0.9724 - val_loss: 3.6198 - val_acc: 0.5360\n",
      "Epoch 60/100\n",
      "50000/50000 [==============================] - 16s 321us/step - loss: 0.1067 - acc: 0.9645 - val_loss: 3.6365 - val_acc: 0.5344\n",
      "Epoch 61/100\n",
      "50000/50000 [==============================] - 16s 320us/step - loss: 0.1010 - acc: 0.9664 - val_loss: 3.6994 - val_acc: 0.5209\n",
      "Epoch 62/100\n",
      "50000/50000 [==============================] - 16s 319us/step - loss: 0.0867 - acc: 0.9705 - val_loss: 3.6787 - val_acc: 0.5273\n",
      "Epoch 63/100\n",
      "50000/50000 [==============================] - 16s 323us/step - loss: 0.0913 - acc: 0.9704 - val_loss: 3.6794 - val_acc: 0.5279\n",
      "Epoch 64/100\n",
      "50000/50000 [==============================] - 16s 320us/step - loss: 0.0979 - acc: 0.9675 - val_loss: 3.7122 - val_acc: 0.5267\n",
      "Epoch 65/100\n",
      "50000/50000 [==============================] - 16s 323us/step - loss: 0.0978 - acc: 0.9676 - val_loss: 3.6537 - val_acc: 0.5274\n",
      "Epoch 66/100\n",
      "50000/50000 [==============================] - 16s 319us/step - loss: 0.0933 - acc: 0.9693 - val_loss: 3.7898 - val_acc: 0.5213\n",
      "Epoch 67/100\n",
      "50000/50000 [==============================] - 16s 320us/step - loss: 0.0761 - acc: 0.9749 - val_loss: 3.7780 - val_acc: 0.5250\n",
      "Epoch 68/100\n",
      "50000/50000 [==============================] - 16s 321us/step - loss: 0.0802 - acc: 0.9745 - val_loss: 3.8839 - val_acc: 0.5272\n",
      "Epoch 69/100\n",
      "50000/50000 [==============================] - 16s 320us/step - loss: 0.1017 - acc: 0.9670 - val_loss: 3.8620 - val_acc: 0.5224\n",
      "Epoch 70/100\n",
      "50000/50000 [==============================] - 16s 320us/step - loss: 0.0863 - acc: 0.9716 - val_loss: 3.8341 - val_acc: 0.5289\n",
      "Epoch 71/100\n",
      "50000/50000 [==============================] - 16s 320us/step - loss: 0.0771 - acc: 0.9749 - val_loss: 3.8011 - val_acc: 0.5336\n",
      "Epoch 72/100\n",
      "50000/50000 [==============================] - 16s 321us/step - loss: 0.0874 - acc: 0.9721 - val_loss: 3.8465 - val_acc: 0.5268\n",
      "Epoch 73/100\n",
      "50000/50000 [==============================] - 16s 320us/step - loss: 0.0860 - acc: 0.9711 - val_loss: 3.8762 - val_acc: 0.5262\n",
      "Epoch 74/100\n",
      "50000/50000 [==============================] - 16s 320us/step - loss: 0.0995 - acc: 0.9677 - val_loss: 3.7402 - val_acc: 0.5286\n",
      "Epoch 75/100\n",
      "50000/50000 [==============================] - 16s 321us/step - loss: 0.0838 - acc: 0.9727 - val_loss: 3.8268 - val_acc: 0.5291\n",
      "Epoch 76/100\n",
      "50000/50000 [==============================] - 16s 320us/step - loss: 0.0634 - acc: 0.9795 - val_loss: 3.8424 - val_acc: 0.5302\n",
      "Epoch 77/100\n",
      "50000/50000 [==============================] - 16s 319us/step - loss: 0.0827 - acc: 0.9740 - val_loss: 3.8807 - val_acc: 0.5272\n",
      "Epoch 78/100\n",
      "50000/50000 [==============================] - 16s 320us/step - loss: 0.0901 - acc: 0.9707 - val_loss: 3.7868 - val_acc: 0.5332\n",
      "Epoch 79/100\n",
      "50000/50000 [==============================] - 16s 319us/step - loss: 0.0788 - acc: 0.9750 - val_loss: 3.8402 - val_acc: 0.5283\n",
      "Epoch 80/100\n",
      "50000/50000 [==============================] - 16s 322us/step - loss: 0.0551 - acc: 0.9825 - val_loss: 3.8946 - val_acc: 0.5332\n",
      "Epoch 81/100\n",
      "50000/50000 [==============================] - 16s 320us/step - loss: 0.0607 - acc: 0.9797 - val_loss: 3.9627 - val_acc: 0.5312\n",
      "Epoch 82/100\n",
      "50000/50000 [==============================] - 16s 320us/step - loss: 0.0882 - acc: 0.9713 - val_loss: 3.7803 - val_acc: 0.5323\n",
      "Epoch 83/100\n",
      "50000/50000 [==============================] - 16s 320us/step - loss: 0.0718 - acc: 0.9765 - val_loss: 3.8740 - val_acc: 0.5289\n",
      "Epoch 84/100\n",
      "50000/50000 [==============================] - 16s 320us/step - loss: 0.0757 - acc: 0.9763 - val_loss: 3.8758 - val_acc: 0.5345\n",
      "Epoch 85/100\n",
      "50000/50000 [==============================] - 16s 319us/step - loss: 0.1024 - acc: 0.9683 - val_loss: 3.7608 - val_acc: 0.5209\n",
      "Epoch 86/100\n",
      "50000/50000 [==============================] - 16s 327us/step - loss: 0.0699 - acc: 0.9778 - val_loss: 3.8171 - val_acc: 0.5330\n",
      "Epoch 87/100\n",
      "50000/50000 [==============================] - 17s 330us/step - loss: 0.0434 - acc: 0.9851 - val_loss: 3.9931 - val_acc: 0.5304\n",
      "Epoch 88/100\n",
      "50000/50000 [==============================] - 17s 333us/step - loss: 0.0754 - acc: 0.9757 - val_loss: 4.0241 - val_acc: 0.5263\n",
      "Epoch 89/100\n",
      "50000/50000 [==============================] - 16s 324us/step - loss: 0.0960 - acc: 0.9696 - val_loss: 3.8225 - val_acc: 0.5283\n",
      "Epoch 90/100\n",
      "50000/50000 [==============================] - 16s 323us/step - loss: 0.0537 - acc: 0.9825 - val_loss: 3.9897 - val_acc: 0.5275\n",
      "Epoch 91/100\n",
      "50000/50000 [==============================] - 16s 325us/step - loss: 0.0441 - acc: 0.9859 - val_loss: 4.0365 - val_acc: 0.5297\n",
      "Epoch 92/100\n",
      "50000/50000 [==============================] - 16s 327us/step - loss: 0.0799 - acc: 0.9747 - val_loss: 3.9002 - val_acc: 0.5330\n",
      "Epoch 93/100\n",
      "50000/50000 [==============================] - 16s 322us/step - loss: 0.1134 - acc: 0.9654 - val_loss: 3.9232 - val_acc: 0.5263\n",
      "Epoch 94/100\n",
      "50000/50000 [==============================] - 16s 321us/step - loss: 0.0599 - acc: 0.9808 - val_loss: 3.9886 - val_acc: 0.5219\n",
      "Epoch 95/100\n",
      "50000/50000 [==============================] - 16s 325us/step - loss: 0.0479 - acc: 0.9842 - val_loss: 3.9804 - val_acc: 0.5368\n",
      "Epoch 96/100\n",
      "50000/50000 [==============================] - 16s 323us/step - loss: 0.0470 - acc: 0.9854 - val_loss: 4.1511 - val_acc: 0.5346\n",
      "Epoch 97/100\n",
      "50000/50000 [==============================] - 16s 324us/step - loss: 0.0698 - acc: 0.9774 - val_loss: 4.0005 - val_acc: 0.5280\n",
      "Epoch 98/100\n",
      "50000/50000 [==============================] - 16s 322us/step - loss: 0.0832 - acc: 0.9737 - val_loss: 3.9486 - val_acc: 0.5281\n",
      "Epoch 99/100\n",
      "50000/50000 [==============================] - 16s 326us/step - loss: 0.0770 - acc: 0.9753 - val_loss: 3.9808 - val_acc: 0.5333\n",
      "Epoch 100/100\n",
      "50000/50000 [==============================] - 16s 324us/step - loss: 0.0464 - acc: 0.9850 - val_loss: 4.1489 - val_acc: 0.5298\n"
     ]
    },
    {
     "data": {
      "text/plain": [
       "<keras.callbacks.History at 0x167bec88>"
      ]
     },
     "execution_count": 14,
     "metadata": {},
     "output_type": "execute_result"
    }
   ],
   "source": [
    "model.fit(x_train, y_train, \n",
    "          epochs=EPOCHS, \n",
    "          batch_size=BATCH_SIZE, \n",
    "          validation_data=(x_test, y_test), \n",
    "          shuffle=True)"
   ]
  },
  {
   "cell_type": "code",
   "execution_count": 16,
   "metadata": {},
   "outputs": [
    {
     "data": {
      "image/png": "[encoded data removed]",
      "text/plain": [
       "<Figure size 432x288 with 1 Axes>"
      ]
     },
     "metadata": {
      "needs_background": "light"
     },
     "output_type": "display_data"
    },
    {
     "data": {
      "image/png": "[encoded data removed]",
      "text/plain": [
       "<Figure size 432x288 with 1 Axes>"
      ]
     },
     "metadata": {
      "needs_background": "light"
     },
     "output_type": "display_data"
    }
   ],
   "source": [
    "import matplotlib.pyplot as plt\n",
    "\n",
    "\n",
    "train_loss = model.history.history[\"loss\"]\n",
    "valid_loss = model.history.history[\"val_loss\"]\n",
    "\n",
    "train_acc = model.history.history[\"acc\"]\n",
    "valid_acc = model.history.history[\"val_acc\"]\n",
    "\n",
    "plt.plot(range(len(train_loss)), train_loss, label=\"train loss\")\n",
    "plt.plot(range(len(valid_loss)), valid_loss, label=\"valid loss\")\n",
    "plt.legend()\n",
    "plt.title(\"Loss\")\n",
    "plt.show()\n",
    "\n",
    "plt.plot(range(len(train_acc)), train_acc, label=\"train accuracy\")\n",
    "plt.plot(range(len(valid_acc)), valid_acc, label=\"valid accuracy\")\n",
    "plt.legend()\n",
    "plt.title(\"Accuracy\")\n",
    "plt.show()"
   ]
  },
  {
   "cell_type": "code",
   "execution_count": null,
   "metadata": {},
   "outputs": [],
   "source": []
  }
 ],
 "metadata": {
  "kernelspec": {
   "display_name": "Python 3",
   "language": "python",
   "name": "python3"
  },
  "language_info": {
   "codemirror_mode": {
    "name": "ipython",
    "version": 3
   },
   "file_extension": ".py",
   "mimetype": "text/x-python",
   "name": "python",
   "nbconvert_exporter": "python",
   "pygments_lexer": "ipython3",
   "version": "3.6.7"
  }
 },
 "nbformat": 4,
 "nbformat_minor": 2
}
